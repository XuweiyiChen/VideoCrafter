{
 "cells": [
  {
   "cell_type": "code",
   "execution_count": 1,
   "metadata": {},
   "outputs": [
    {
     "name": "stderr",
     "output_type": "stream",
     "text": [
      "/home/xuweic/miniconda3/envs/videocrafter/lib/python3.8/site-packages/tqdm/auto.py:21: TqdmWarning: IProgress not found. Please update jupyter and ipywidgets. See https://ipywidgets.readthedocs.io/en/stable/user_install.html\n",
      "  from .autonotebook import tqdm as notebook_tqdm\n"
     ]
    }
   ],
   "source": [
    "import os\n",
    "os.environ[\"CUDA_VISIBLE_DEVICES\"] = str(1)\n",
    "import argparse, os, sys, glob, yaml, math, random\n",
    "import datetime, time\n",
    "import numpy as np\n",
    "from omegaconf import OmegaConf\n",
    "from collections import OrderedDict\n",
    "from tqdm import trange, tqdm\n",
    "from einops import repeat\n",
    "from einops import rearrange, repeat\n",
    "from functools import partial\n",
    "import torch\n",
    "from pytorch_lightning import seed_everything\n",
    "import ptp_utils\n",
    "from funcs import load_model_checkpoint, load_prompts, load_image_batch, get_filelist, save_videos\n",
    "from funcs import batch_ddim_sampling\n",
    "from utils.utils import instantiate_from_config\n",
    "import abc"
   ]
  },
  {
   "cell_type": "code",
   "execution_count": 2,
   "metadata": {},
   "outputs": [],
   "source": [
    "class AttentionControl(abc.ABC):\n",
    "    def step_callback(self, x_t):\n",
    "        return x_t\n",
    "\n",
    "    def between_steps(self):\n",
    "        return\n",
    "\n",
    "    @abc.abstractmethod\n",
    "    def forward(self, attn, is_cross: bool, place_in_unet: str):\n",
    "        raise NotImplementedError\n",
    "\n",
    "    def __call__(self, context, video_length, place_in_unet: str):\n",
    "        # b, c, h, w \n",
    "        video_length = 16\n",
    "        context = rearrange(context, \"(b f) d c -> b f d c\", f=video_length)\n",
    "        batch_size = context.shape[0]\n",
    "        batch_size = batch_size // 2\n",
    "\n",
    "        if batch_size == 2:\n",
    "            # Do classifier-free guidance\n",
    "            hidden_states_uncondition, hidden_states_condition = context.chunk(2)\n",
    "\n",
    "            if self.cur_step <= self.motion_control_step:\n",
    "                hidden_states_motion_uncondition = hidden_states_uncondition[\n",
    "                    1\n",
    "                ].unsqueeze(0)\n",
    "            else:\n",
    "                hidden_states_motion_uncondition = hidden_states_uncondition[\n",
    "                    0\n",
    "                ].unsqueeze(0)\n",
    "\n",
    "            hidden_states_out_uncondition = torch.cat(\n",
    "                [\n",
    "                    hidden_states_motion_uncondition,\n",
    "                    hidden_states_uncondition[1].unsqueeze(0),\n",
    "                ],\n",
    "                dim=0,\n",
    "            )  # Query\n",
    "            hidden_states_sac_in_uncondition = self.forward(\n",
    "                hidden_states_uncondition[0].unsqueeze(0), video_length, place_in_unet\n",
    "            )\n",
    "            hidden_states_sac_out_uncondition = torch.cat(\n",
    "                [\n",
    "                    hidden_states_sac_in_uncondition,\n",
    "                    hidden_states_uncondition[1].unsqueeze(0),\n",
    "                ],\n",
    "                dim=0,\n",
    "            )  # Key & Value\n",
    "\n",
    "            if self.cur_step <= self.motion_control_step:\n",
    "                hidden_states_motion_condition = hidden_states_condition[1].unsqueeze(0)\n",
    "            else:\n",
    "                hidden_states_motion_condition = hidden_states_condition[0].unsqueeze(0)\n",
    "\n",
    "            hidden_states_out_condition = torch.cat(\n",
    "                [\n",
    "                    hidden_states_motion_condition,\n",
    "                    hidden_states_condition[1].unsqueeze(0),\n",
    "                ],\n",
    "                dim=0,\n",
    "            )  # Query\n",
    "            hidden_states_sac_in_condition = self.forward(\n",
    "                hidden_states_condition[0].unsqueeze(0), video_length, place_in_unet\n",
    "            )\n",
    "            hidden_states_sac_out_condition = torch.cat(\n",
    "                [\n",
    "                    hidden_states_sac_in_condition,\n",
    "                    hidden_states_condition[1].unsqueeze(0),\n",
    "                ],\n",
    "                dim=0,\n",
    "            )  # Key & Value\n",
    "\n",
    "            hidden_states_out = torch.cat(\n",
    "                [hidden_states_out_uncondition, hidden_states_out_condition], dim=0\n",
    "            )\n",
    "            hidden_states_sac_out = torch.cat(\n",
    "                [hidden_states_sac_out_uncondition, hidden_states_sac_out_condition],\n",
    "                dim=0,\n",
    "            )\n",
    "\n",
    "        elif batch_size == 1:\n",
    "            if self.cur_step <= self.motion_control_step:\n",
    "                hidden_states_motion = context[1].unsqueeze(0)\n",
    "            else:\n",
    "                hidden_states_motion = context[0].unsqueeze(0)\n",
    "\n",
    "            hidden_states_out = torch.cat(\n",
    "                [hidden_states_motion, context[1].unsqueeze(0)], dim=0\n",
    "            )  # Query\n",
    "            hidden_states_sac_in = self.forward(\n",
    "                context[0].unsqueeze(0), video_length, place_in_unet\n",
    "            )\n",
    "            hidden_states_sac_out = torch.cat(\n",
    "                [hidden_states_sac_in, context[1].unsqueeze(0)], dim=0\n",
    "            )  # Key & Value\n",
    "\n",
    "        else:\n",
    "            raise ValueError(\"Batch size must be 1 or 2\")\n",
    "        \n",
    "        context = rearrange(context, \"b f d c -> (b f) d c\", f=video_length)\n",
    "        hidden_states_out = rearrange(\n",
    "            hidden_states_out, \"b f d c -> (b f) d c\", f=video_length\n",
    "        )\n",
    "        hidden_states_sac_out = rearrange(\n",
    "            hidden_states_sac_out, \"b f d c -> (b f) d c\", f=video_length\n",
    "        )\n",
    "        self.cur_att_layer += 1\n",
    "        if self.cur_att_layer == self.num_att_layers:\n",
    "            self.cur_att_layer = 0\n",
    "            self.cur_step += 1\n",
    "        return hidden_states_out, hidden_states_sac_out, hidden_states_sac_out\n",
    "\n",
    "    def __init__(self):\n",
    "        self.cur_step = 0\n",
    "        self.cur_att_layer = 0\n",
    "        self.num_att_layers = -1\n",
    "        self.motion_control_step = 0\n",
    "\n",
    "\n",
    "class EmptyControl(AttentionControl):\n",
    "    def forward(self, context, video_length, place_in_unet):\n",
    "        return context\n",
    "\n",
    "\n",
    "class FreeSAC(AttentionControl):\n",
    "    def forward(self, context, video_length, place_in_unet):\n",
    "        hidden_states_sac = (\n",
    "            context[:, 0, :, :].unsqueeze(1).repeat(1, video_length, 1, 1)\n",
    "        )\n",
    "        return context"
   ]
  },
  {
   "cell_type": "code",
   "execution_count": 3,
   "metadata": {},
   "outputs": [],
   "source": [
    "def get_parser():\n",
    "    parser = argparse.ArgumentParser()\n",
    "    parser.add_argument(\"--seed\", type=int, default=20230211, help=\"seed for seed_everything\")\n",
    "    parser.add_argument(\"--mode\", default=\"base\", type=str, help=\"which kind of inference mode: {'base', 'i2v'}\")\n",
    "    parser.add_argument(\"--ckpt_path\", type=str, default=None, help=\"checkpoint path\")\n",
    "    parser.add_argument(\"--config\", type=str, help=\"config (yaml) path\")\n",
    "    parser.add_argument(\"--prompt_file\", type=str, default=None, help=\"a text file containing many prompts\")\n",
    "    parser.add_argument(\"--savedir\", type=str, default=None, help=\"results saving path\")\n",
    "    parser.add_argument(\"--savefps\", type=str, default=10, help=\"video fps to generate\")\n",
    "    parser.add_argument(\"--n_samples\", type=int, default=1, help=\"num of samples per prompt\",)\n",
    "    parser.add_argument(\"--ddim_steps\", type=int, default=50, help=\"steps of ddim if positive, otherwise use DDPM\",)\n",
    "    parser.add_argument(\"--ddim_eta\", type=float, default=1.0, help=\"eta for ddim sampling (0.0 yields deterministic sampling)\",)\n",
    "    parser.add_argument(\"--bs\", type=int, default=1, help=\"batch size for inference\")\n",
    "    parser.add_argument(\"--height\", type=int, default=512, help=\"image height, in pixel space\")\n",
    "    parser.add_argument(\"--width\", type=int, default=512, help=\"image width, in pixel space\")\n",
    "    parser.add_argument(\"--frames\", type=int, default=-1, help=\"frames num to inference\")\n",
    "    parser.add_argument(\"--fps\", type=int, default=24)\n",
    "    parser.add_argument(\"--unconditional_guidance_scale\", type=float, default=1.0, help=\"prompt classifier-free guidance\")\n",
    "    parser.add_argument(\"--unconditional_guidance_scale_temporal\", type=float, default=None, help=\"temporal consistency guidance\")\n",
    "    ## for conditional i2v only\n",
    "    parser.add_argument(\"--cond_input\", type=str, default=None, help=\"data dir of conditional input\")\n",
    "    return parser\n"
   ]
  },
  {
   "cell_type": "code",
   "execution_count": 4,
   "metadata": {},
   "outputs": [],
   "source": [
    "def run_inference(args, gpu_num, gpu_no, **kwargs):\n",
    "    ## step 1: model config\n",
    "    ## -----------------------------------------------------------------\n",
    "    config = OmegaConf.load(args.config)\n",
    "    #data_config = config.pop(\"data\", OmegaConf.create())\n",
    "    model_config = config.pop(\"model\", OmegaConf.create())\n",
    "    model = instantiate_from_config(model_config)\n",
    "    model = model.cuda(gpu_no)\n",
    "    assert os.path.exists(args.ckpt_path), f\"Error: checkpoint [{args.ckpt_path}] Not Found!\"\n",
    "    model = load_model_checkpoint(model, args.ckpt_path)\n",
    "    model.eval()\n",
    "\n",
    "    ## sample shape\n",
    "    assert (args.height % 16 == 0) and (args.width % 16 == 0), \"Error: image size [h,w] should be multiples of 16!\"\n",
    "    ## latent noise shape\n",
    "    h, w = args.height // 8, args.width // 8\n",
    "    frames = model.temporal_length if args.frames < 0 else args.frames\n",
    "    channels = model.channels\n",
    "    \n",
    "    ## saving folders\n",
    "    os.makedirs(args.savedir, exist_ok=True)\n",
    "\n",
    "    ## step 2: load data\n",
    "    ## -----------------------------------------------------------------\n",
    "    assert os.path.exists(args.prompt_file), \"Error: prompt file NOT Found!\"\n",
    "    prompt_list = load_prompts(args.prompt_file)\n",
    "    num_samples = len(prompt_list)\n",
    "    filename_list = [f\"{id+1:04d}\" for id in range(num_samples)]\n",
    "\n",
    "    samples_split = num_samples // gpu_num\n",
    "    residual_tail = num_samples % gpu_num\n",
    "    print(f'[rank:{gpu_no}] {samples_split}/{num_samples} samples loaded.')\n",
    "    indices = list(range(samples_split*gpu_no, samples_split*(gpu_no+1)))\n",
    "    if gpu_no == 0 and residual_tail != 0:\n",
    "        indices = indices + list(range(num_samples-residual_tail, num_samples))\n",
    "    prompt_list_rank = [prompt_list[i] for i in indices]\n",
    "\n",
    "    ## conditional input\n",
    "    if args.mode == \"i2v\":\n",
    "        ## each video or frames dir per prompt\n",
    "        cond_inputs = get_filelist(args.cond_input, ext='[mpj][pn][4gj]')   # '[mpj][pn][4gj]'\n",
    "        assert len(cond_inputs) == num_samples, f\"Error: conditional input ({len(cond_inputs)}) NOT match prompt ({num_samples})!\"\n",
    "        filename_list = [f\"{os.path.split(cond_inputs[id])[-1][:-4]}\" for id in range(num_samples)]\n",
    "        cond_inputs_rank = [cond_inputs[i] for i in indices]\n",
    "\n",
    "    filename_list_rank = [filename_list[i] for i in indices]\n",
    "\n",
    "    ## step 3: run over samples\n",
    "    ## -----------------------------------------------------------------\n",
    "    start = time.time()\n",
    "    n_rounds = len(prompt_list_rank) // args.bs\n",
    "    n_rounds = n_rounds+1 if len(prompt_list_rank) % args.bs != 0 else n_rounds\n",
    "    for idx in range(0, n_rounds):\n",
    "        print(f'[rank:{gpu_no}] batch-{idx+1} ({args.bs})x{args.n_samples} ...')\n",
    "        idx_s = idx*args.bs\n",
    "        idx_e = min(idx_s+args.bs, len(prompt_list_rank))\n",
    "        batch_size = idx_e - idx_s\n",
    "        filenames = filename_list_rank[idx_s:idx_e]\n",
    "        noise_shape = [batch_size, channels, frames, h, w]\n",
    "        fps = torch.tensor([args.fps]*batch_size).to(model.device).long()\n",
    "\n",
    "        prompts = prompt_list_rank[idx_s:idx_e]\n",
    "        filenames += prompts\n",
    "        if isinstance(prompts, str):\n",
    "            prompts = [prompts]\n",
    "        #prompts = batch_size * [\"\"]\n",
    "        text_emb = model.get_learned_conditioning(prompts)\n",
    "\n",
    "        if args.mode == 'base':\n",
    "            cond = {\"c_crossattn\": [text_emb], \"fps\": fps}\n",
    "        elif args.mode == 'i2v':\n",
    "            #cond_images = torch.zeros(noise_shape[0],3,224,224).to(model.device)\n",
    "            cond_images = load_image_batch(cond_inputs_rank[idx_s:idx_e], (args.height, args.width))\n",
    "            cond_images = cond_images.to(model.device)\n",
    "            img_emb = model.get_image_embeds(cond_images)\n",
    "            imtext_cond = torch.cat([text_emb, img_emb], dim=1)\n",
    "            cond = {\"c_crossattn\": [imtext_cond], \"fps\": fps}\n",
    "        else:\n",
    "            raise NotImplementedError\n",
    "\n",
    "        # inference\n",
    "        motion_control = 0.1\n",
    "        motion_control_step = motion_control * args.ddim_steps\n",
    "        attn_controller = FreeSAC()\n",
    "        attn_controller.motion_control_step = motion_control_step\n",
    "        ptp_utils.register_attention_control(model, attn_controller)\n",
    "        batch_samples = batch_ddim_sampling(model, cond, noise_shape, args.n_samples, \\\n",
    "                                                args.ddim_steps, args.ddim_eta, args.unconditional_guidance_scale, **kwargs)\n",
    "        ## b,samples,c,t,h,w\n",
    "        save_videos(batch_samples, args.savedir, filenames, fps=args.savefps)\n",
    "\n",
    "    print(f\"Saved in {args.savedir}. Time used: {(time.time() - start):.2f} seconds\")"
   ]
  },
  {
   "cell_type": "code",
   "execution_count": 5,
   "metadata": {},
   "outputs": [
    {
     "name": "stderr",
     "output_type": "stream",
     "text": [
      "Global seed set to 123123123\n"
     ]
    },
    {
     "name": "stdout",
     "output_type": "stream",
     "text": [
      "@CoLVDM Inference: 2024-03-02-05-35-40\n",
      "AE working on z of shape (1, 4, 64, 64) = 16384 dimensions.\n",
      ">>> model checkpoint loaded.\n",
      "[rank:0] 205/205 samples loaded.\n",
      "[rank:0] batch-1 (1)x1 ...\n",
      "DDIM scale True\n",
      "ddim device cuda:0\n"
     ]
    },
    {
     "name": "stderr",
     "output_type": "stream",
     "text": [
      "  0%|          | 0/50 [00:00<?, ?it/s]/home/xuweic/miniconda3/envs/videocrafter/lib/python3.8/site-packages/torch/utils/checkpoint.py:31: UserWarning: None of the inputs have requires_grad=True. Gradients will be None\n",
      "  warnings.warn(\"None of the inputs have requires_grad=True. Gradients will be None\")\n",
      "100%|██████████| 50/50 [02:18<00:00,  2.76s/it]\n"
     ]
    },
    {
     "name": "stdout",
     "output_type": "stream",
     "text": [
      "[rank:0] batch-2 (1)x1 ...\n",
      "DDIM scale True\n",
      "ddim device cuda:0\n"
     ]
    },
    {
     "name": "stderr",
     "output_type": "stream",
     "text": [
      "100%|██████████| 50/50 [02:20<00:00,  2.81s/it]\n"
     ]
    },
    {
     "name": "stdout",
     "output_type": "stream",
     "text": [
      "[rank:0] batch-3 (1)x1 ...\n",
      "DDIM scale True\n",
      "ddim device cuda:0\n"
     ]
    },
    {
     "name": "stderr",
     "output_type": "stream",
     "text": [
      "100%|██████████| 50/50 [02:20<00:00,  2.81s/it]\n"
     ]
    },
    {
     "name": "stdout",
     "output_type": "stream",
     "text": [
      "[rank:0] batch-4 (1)x1 ...\n",
      "DDIM scale True\n",
      "ddim device cuda:0\n"
     ]
    },
    {
     "name": "stderr",
     "output_type": "stream",
     "text": [
      "100%|██████████| 50/50 [02:20<00:00,  2.81s/it]\n"
     ]
    },
    {
     "name": "stdout",
     "output_type": "stream",
     "text": [
      "[rank:0] batch-5 (1)x1 ...\n",
      "DDIM scale True\n",
      "ddim device cuda:0\n"
     ]
    },
    {
     "name": "stderr",
     "output_type": "stream",
     "text": [
      "100%|██████████| 50/50 [02:20<00:00,  2.81s/it]\n"
     ]
    },
    {
     "name": "stdout",
     "output_type": "stream",
     "text": [
      "[rank:0] batch-6 (1)x1 ...\n",
      "DDIM scale True\n",
      "ddim device cuda:0\n"
     ]
    },
    {
     "name": "stderr",
     "output_type": "stream",
     "text": [
      "100%|██████████| 50/50 [02:20<00:00,  2.81s/it]\n"
     ]
    },
    {
     "name": "stdout",
     "output_type": "stream",
     "text": [
      "[rank:0] batch-7 (1)x1 ...\n",
      "DDIM scale True\n",
      "ddim device cuda:0\n"
     ]
    },
    {
     "name": "stderr",
     "output_type": "stream",
     "text": [
      "100%|██████████| 50/50 [02:20<00:00,  2.81s/it]\n"
     ]
    },
    {
     "name": "stdout",
     "output_type": "stream",
     "text": [
      "[rank:0] batch-8 (1)x1 ...\n",
      "DDIM scale True\n",
      "ddim device cuda:0\n"
     ]
    },
    {
     "name": "stderr",
     "output_type": "stream",
     "text": [
      "100%|██████████| 50/50 [02:20<00:00,  2.81s/it]\n"
     ]
    },
    {
     "name": "stdout",
     "output_type": "stream",
     "text": [
      "[rank:0] batch-9 (1)x1 ...\n",
      "DDIM scale True\n",
      "ddim device cuda:0\n"
     ]
    },
    {
     "name": "stderr",
     "output_type": "stream",
     "text": [
      "100%|██████████| 50/50 [02:20<00:00,  2.81s/it]\n"
     ]
    },
    {
     "name": "stdout",
     "output_type": "stream",
     "text": [
      "[rank:0] batch-10 (1)x1 ...\n",
      "DDIM scale True\n",
      "ddim device cuda:0\n"
     ]
    },
    {
     "name": "stderr",
     "output_type": "stream",
     "text": [
      "100%|██████████| 50/50 [02:20<00:00,  2.81s/it]\n"
     ]
    },
    {
     "name": "stdout",
     "output_type": "stream",
     "text": [
      "[rank:0] batch-11 (1)x1 ...\n",
      "DDIM scale True\n",
      "ddim device cuda:0\n"
     ]
    },
    {
     "name": "stderr",
     "output_type": "stream",
     "text": [
      "100%|██████████| 50/50 [02:20<00:00,  2.81s/it]\n"
     ]
    },
    {
     "name": "stdout",
     "output_type": "stream",
     "text": [
      "[rank:0] batch-12 (1)x1 ...\n",
      "DDIM scale True\n",
      "ddim device cuda:0\n"
     ]
    },
    {
     "name": "stderr",
     "output_type": "stream",
     "text": [
      "100%|██████████| 50/50 [02:20<00:00,  2.81s/it]\n"
     ]
    },
    {
     "name": "stdout",
     "output_type": "stream",
     "text": [
      "[rank:0] batch-13 (1)x1 ...\n",
      "DDIM scale True\n",
      "ddim device cuda:0\n"
     ]
    },
    {
     "name": "stderr",
     "output_type": "stream",
     "text": [
      "100%|██████████| 50/50 [02:20<00:00,  2.81s/it]\n"
     ]
    },
    {
     "name": "stdout",
     "output_type": "stream",
     "text": [
      "[rank:0] batch-14 (1)x1 ...\n",
      "DDIM scale True\n",
      "ddim device cuda:0\n"
     ]
    },
    {
     "name": "stderr",
     "output_type": "stream",
     "text": [
      "100%|██████████| 50/50 [02:20<00:00,  2.81s/it]\n"
     ]
    },
    {
     "name": "stdout",
     "output_type": "stream",
     "text": [
      "[rank:0] batch-15 (1)x1 ...\n",
      "DDIM scale True\n",
      "ddim device cuda:0\n"
     ]
    },
    {
     "name": "stderr",
     "output_type": "stream",
     "text": [
      "100%|██████████| 50/50 [02:20<00:00,  2.81s/it]\n"
     ]
    },
    {
     "name": "stdout",
     "output_type": "stream",
     "text": [
      "[rank:0] batch-16 (1)x1 ...\n",
      "DDIM scale True\n",
      "ddim device cuda:0\n"
     ]
    },
    {
     "name": "stderr",
     "output_type": "stream",
     "text": [
      "100%|██████████| 50/50 [02:20<00:00,  2.81s/it]\n"
     ]
    },
    {
     "name": "stdout",
     "output_type": "stream",
     "text": [
      "[rank:0] batch-17 (1)x1 ...\n",
      "DDIM scale True\n",
      "ddim device cuda:0\n"
     ]
    },
    {
     "name": "stderr",
     "output_type": "stream",
     "text": [
      "100%|██████████| 50/50 [02:20<00:00,  2.81s/it]\n"
     ]
    },
    {
     "name": "stdout",
     "output_type": "stream",
     "text": [
      "[rank:0] batch-18 (1)x1 ...\n",
      "DDIM scale True\n",
      "ddim device cuda:0\n"
     ]
    },
    {
     "name": "stderr",
     "output_type": "stream",
     "text": [
      "100%|██████████| 50/50 [02:20<00:00,  2.81s/it]\n"
     ]
    },
    {
     "name": "stdout",
     "output_type": "stream",
     "text": [
      "[rank:0] batch-19 (1)x1 ...\n",
      "DDIM scale True\n",
      "ddim device cuda:0\n"
     ]
    },
    {
     "name": "stderr",
     "output_type": "stream",
     "text": [
      "100%|██████████| 50/50 [02:20<00:00,  2.81s/it]\n"
     ]
    },
    {
     "name": "stdout",
     "output_type": "stream",
     "text": [
      "[rank:0] batch-20 (1)x1 ...\n",
      "DDIM scale True\n",
      "ddim device cuda:0\n"
     ]
    },
    {
     "name": "stderr",
     "output_type": "stream",
     "text": [
      "100%|██████████| 50/50 [02:20<00:00,  2.81s/it]\n"
     ]
    },
    {
     "name": "stdout",
     "output_type": "stream",
     "text": [
      "[rank:0] batch-21 (1)x1 ...\n",
      "DDIM scale True\n",
      "ddim device cuda:0\n"
     ]
    },
    {
     "name": "stderr",
     "output_type": "stream",
     "text": [
      "100%|██████████| 50/50 [02:20<00:00,  2.81s/it]\n"
     ]
    },
    {
     "name": "stdout",
     "output_type": "stream",
     "text": [
      "[rank:0] batch-22 (1)x1 ...\n",
      "DDIM scale True\n",
      "ddim device cuda:0\n"
     ]
    },
    {
     "name": "stderr",
     "output_type": "stream",
     "text": [
      "100%|██████████| 50/50 [02:20<00:00,  2.81s/it]\n"
     ]
    },
    {
     "name": "stdout",
     "output_type": "stream",
     "text": [
      "[rank:0] batch-23 (1)x1 ...\n",
      "DDIM scale True\n",
      "ddim device cuda:0\n"
     ]
    },
    {
     "name": "stderr",
     "output_type": "stream",
     "text": [
      "100%|██████████| 50/50 [02:20<00:00,  2.81s/it]\n"
     ]
    },
    {
     "name": "stdout",
     "output_type": "stream",
     "text": [
      "[rank:0] batch-24 (1)x1 ...\n",
      "DDIM scale True\n",
      "ddim device cuda:0\n"
     ]
    },
    {
     "name": "stderr",
     "output_type": "stream",
     "text": [
      "100%|██████████| 50/50 [02:20<00:00,  2.81s/it]\n"
     ]
    },
    {
     "name": "stdout",
     "output_type": "stream",
     "text": [
      "[rank:0] batch-25 (1)x1 ...\n",
      "DDIM scale True\n",
      "ddim device cuda:0\n"
     ]
    },
    {
     "name": "stderr",
     "output_type": "stream",
     "text": [
      "100%|██████████| 50/50 [02:20<00:00,  2.81s/it]\n"
     ]
    },
    {
     "name": "stdout",
     "output_type": "stream",
     "text": [
      "[rank:0] batch-26 (1)x1 ...\n",
      "DDIM scale True\n",
      "ddim device cuda:0\n"
     ]
    },
    {
     "name": "stderr",
     "output_type": "stream",
     "text": [
      "100%|██████████| 50/50 [02:20<00:00,  2.81s/it]\n"
     ]
    },
    {
     "name": "stdout",
     "output_type": "stream",
     "text": [
      "[rank:0] batch-27 (1)x1 ...\n",
      "DDIM scale True\n",
      "ddim device cuda:0\n"
     ]
    },
    {
     "name": "stderr",
     "output_type": "stream",
     "text": [
      "100%|██████████| 50/50 [02:20<00:00,  2.81s/it]\n"
     ]
    },
    {
     "name": "stdout",
     "output_type": "stream",
     "text": [
      "[rank:0] batch-28 (1)x1 ...\n",
      "DDIM scale True\n",
      "ddim device cuda:0\n"
     ]
    },
    {
     "name": "stderr",
     "output_type": "stream",
     "text": [
      "100%|██████████| 50/50 [02:20<00:00,  2.81s/it]\n"
     ]
    },
    {
     "name": "stdout",
     "output_type": "stream",
     "text": [
      "[rank:0] batch-29 (1)x1 ...\n",
      "DDIM scale True\n",
      "ddim device cuda:0\n"
     ]
    },
    {
     "name": "stderr",
     "output_type": "stream",
     "text": [
      "100%|██████████| 50/50 [02:20<00:00,  2.81s/it]\n"
     ]
    },
    {
     "name": "stdout",
     "output_type": "stream",
     "text": [
      "[rank:0] batch-30 (1)x1 ...\n",
      "DDIM scale True\n",
      "ddim device cuda:0\n"
     ]
    },
    {
     "name": "stderr",
     "output_type": "stream",
     "text": [
      "100%|██████████| 50/50 [02:20<00:00,  2.81s/it]\n"
     ]
    },
    {
     "name": "stdout",
     "output_type": "stream",
     "text": [
      "[rank:0] batch-31 (1)x1 ...\n",
      "DDIM scale True\n",
      "ddim device cuda:0\n"
     ]
    },
    {
     "name": "stderr",
     "output_type": "stream",
     "text": [
      "100%|██████████| 50/50 [02:20<00:00,  2.81s/it]\n"
     ]
    },
    {
     "name": "stdout",
     "output_type": "stream",
     "text": [
      "[rank:0] batch-32 (1)x1 ...\n",
      "DDIM scale True\n",
      "ddim device cuda:0\n"
     ]
    },
    {
     "name": "stderr",
     "output_type": "stream",
     "text": [
      "100%|██████████| 50/50 [02:20<00:00,  2.81s/it]\n"
     ]
    },
    {
     "name": "stdout",
     "output_type": "stream",
     "text": [
      "[rank:0] batch-33 (1)x1 ...\n",
      "DDIM scale True\n",
      "ddim device cuda:0\n"
     ]
    },
    {
     "name": "stderr",
     "output_type": "stream",
     "text": [
      "100%|██████████| 50/50 [02:20<00:00,  2.81s/it]\n"
     ]
    },
    {
     "name": "stdout",
     "output_type": "stream",
     "text": [
      "[rank:0] batch-34 (1)x1 ...\n",
      "DDIM scale True\n",
      "ddim device cuda:0\n"
     ]
    },
    {
     "name": "stderr",
     "output_type": "stream",
     "text": [
      "100%|██████████| 50/50 [02:20<00:00,  2.81s/it]\n"
     ]
    },
    {
     "name": "stdout",
     "output_type": "stream",
     "text": [
      "[rank:0] batch-35 (1)x1 ...\n",
      "DDIM scale True\n",
      "ddim device cuda:0\n"
     ]
    },
    {
     "name": "stderr",
     "output_type": "stream",
     "text": [
      "100%|██████████| 50/50 [02:20<00:00,  2.81s/it]\n"
     ]
    },
    {
     "name": "stdout",
     "output_type": "stream",
     "text": [
      "[rank:0] batch-36 (1)x1 ...\n",
      "DDIM scale True\n",
      "ddim device cuda:0\n"
     ]
    },
    {
     "name": "stderr",
     "output_type": "stream",
     "text": [
      "100%|██████████| 50/50 [02:20<00:00,  2.81s/it]\n"
     ]
    },
    {
     "name": "stdout",
     "output_type": "stream",
     "text": [
      "[rank:0] batch-37 (1)x1 ...\n",
      "DDIM scale True\n",
      "ddim device cuda:0\n"
     ]
    },
    {
     "name": "stderr",
     "output_type": "stream",
     "text": [
      "100%|██████████| 50/50 [02:20<00:00,  2.81s/it]\n"
     ]
    },
    {
     "name": "stdout",
     "output_type": "stream",
     "text": [
      "[rank:0] batch-38 (1)x1 ...\n",
      "DDIM scale True\n",
      "ddim device cuda:0\n"
     ]
    },
    {
     "name": "stderr",
     "output_type": "stream",
     "text": [
      "100%|██████████| 50/50 [02:20<00:00,  2.81s/it]\n"
     ]
    },
    {
     "name": "stdout",
     "output_type": "stream",
     "text": [
      "[rank:0] batch-39 (1)x1 ...\n",
      "DDIM scale True\n",
      "ddim device cuda:0\n"
     ]
    },
    {
     "name": "stderr",
     "output_type": "stream",
     "text": [
      "100%|██████████| 50/50 [02:20<00:00,  2.81s/it]\n"
     ]
    },
    {
     "name": "stdout",
     "output_type": "stream",
     "text": [
      "[rank:0] batch-40 (1)x1 ...\n",
      "DDIM scale True\n",
      "ddim device cuda:0\n"
     ]
    },
    {
     "name": "stderr",
     "output_type": "stream",
     "text": [
      "100%|██████████| 50/50 [02:20<00:00,  2.81s/it]\n"
     ]
    },
    {
     "name": "stdout",
     "output_type": "stream",
     "text": [
      "[rank:0] batch-41 (1)x1 ...\n",
      "DDIM scale True\n",
      "ddim device cuda:0\n"
     ]
    },
    {
     "name": "stderr",
     "output_type": "stream",
     "text": [
      "100%|██████████| 50/50 [02:20<00:00,  2.81s/it]\n"
     ]
    },
    {
     "name": "stdout",
     "output_type": "stream",
     "text": [
      "[rank:0] batch-42 (1)x1 ...\n",
      "DDIM scale True\n",
      "ddim device cuda:0\n"
     ]
    },
    {
     "name": "stderr",
     "output_type": "stream",
     "text": [
      "100%|██████████| 50/50 [02:20<00:00,  2.81s/it]\n"
     ]
    },
    {
     "name": "stdout",
     "output_type": "stream",
     "text": [
      "[rank:0] batch-43 (1)x1 ...\n",
      "DDIM scale True\n",
      "ddim device cuda:0\n"
     ]
    },
    {
     "name": "stderr",
     "output_type": "stream",
     "text": [
      "100%|██████████| 50/50 [02:20<00:00,  2.81s/it]\n"
     ]
    },
    {
     "name": "stdout",
     "output_type": "stream",
     "text": [
      "[rank:0] batch-44 (1)x1 ...\n",
      "DDIM scale True\n",
      "ddim device cuda:0\n"
     ]
    },
    {
     "name": "stderr",
     "output_type": "stream",
     "text": [
      "100%|██████████| 50/50 [02:20<00:00,  2.81s/it]\n"
     ]
    },
    {
     "name": "stdout",
     "output_type": "stream",
     "text": [
      "[rank:0] batch-45 (1)x1 ...\n",
      "DDIM scale True\n",
      "ddim device cuda:0\n"
     ]
    },
    {
     "name": "stderr",
     "output_type": "stream",
     "text": [
      "100%|██████████| 50/50 [02:20<00:00,  2.81s/it]\n"
     ]
    },
    {
     "name": "stdout",
     "output_type": "stream",
     "text": [
      "[rank:0] batch-46 (1)x1 ...\n",
      "DDIM scale True\n",
      "ddim device cuda:0\n"
     ]
    },
    {
     "name": "stderr",
     "output_type": "stream",
     "text": [
      "100%|██████████| 50/50 [02:20<00:00,  2.81s/it]\n"
     ]
    },
    {
     "name": "stdout",
     "output_type": "stream",
     "text": [
      "[rank:0] batch-47 (1)x1 ...\n",
      "DDIM scale True\n",
      "ddim device cuda:0\n"
     ]
    },
    {
     "name": "stderr",
     "output_type": "stream",
     "text": [
      "100%|██████████| 50/50 [02:20<00:00,  2.81s/it]\n"
     ]
    },
    {
     "name": "stdout",
     "output_type": "stream",
     "text": [
      "[rank:0] batch-48 (1)x1 ...\n",
      "DDIM scale True\n",
      "ddim device cuda:0\n"
     ]
    },
    {
     "name": "stderr",
     "output_type": "stream",
     "text": [
      "100%|██████████| 50/50 [02:20<00:00,  2.81s/it]\n"
     ]
    },
    {
     "name": "stdout",
     "output_type": "stream",
     "text": [
      "[rank:0] batch-49 (1)x1 ...\n",
      "DDIM scale True\n",
      "ddim device cuda:0\n"
     ]
    },
    {
     "name": "stderr",
     "output_type": "stream",
     "text": [
      "100%|██████████| 50/50 [02:20<00:00,  2.81s/it]\n"
     ]
    },
    {
     "name": "stdout",
     "output_type": "stream",
     "text": [
      "[rank:0] batch-50 (1)x1 ...\n",
      "DDIM scale True\n",
      "ddim device cuda:0\n"
     ]
    },
    {
     "name": "stderr",
     "output_type": "stream",
     "text": [
      "100%|██████████| 50/50 [02:20<00:00,  2.81s/it]\n"
     ]
    },
    {
     "name": "stdout",
     "output_type": "stream",
     "text": [
      "[rank:0] batch-51 (1)x1 ...\n",
      "DDIM scale True\n",
      "ddim device cuda:0\n"
     ]
    },
    {
     "name": "stderr",
     "output_type": "stream",
     "text": [
      "100%|██████████| 50/50 [02:20<00:00,  2.81s/it]\n"
     ]
    },
    {
     "name": "stdout",
     "output_type": "stream",
     "text": [
      "[rank:0] batch-52 (1)x1 ...\n",
      "DDIM scale True\n",
      "ddim device cuda:0\n"
     ]
    },
    {
     "name": "stderr",
     "output_type": "stream",
     "text": [
      "100%|██████████| 50/50 [02:20<00:00,  2.81s/it]\n"
     ]
    },
    {
     "name": "stdout",
     "output_type": "stream",
     "text": [
      "[rank:0] batch-53 (1)x1 ...\n",
      "DDIM scale True\n",
      "ddim device cuda:0\n"
     ]
    },
    {
     "name": "stderr",
     "output_type": "stream",
     "text": [
      "100%|██████████| 50/50 [02:20<00:00,  2.81s/it]\n"
     ]
    },
    {
     "name": "stdout",
     "output_type": "stream",
     "text": [
      "[rank:0] batch-54 (1)x1 ...\n",
      "DDIM scale True\n",
      "ddim device cuda:0\n"
     ]
    },
    {
     "name": "stderr",
     "output_type": "stream",
     "text": [
      "100%|██████████| 50/50 [02:20<00:00,  2.81s/it]\n"
     ]
    },
    {
     "name": "stdout",
     "output_type": "stream",
     "text": [
      "[rank:0] batch-55 (1)x1 ...\n",
      "DDIM scale True\n",
      "ddim device cuda:0\n"
     ]
    },
    {
     "name": "stderr",
     "output_type": "stream",
     "text": [
      "100%|██████████| 50/50 [02:20<00:00,  2.81s/it]\n"
     ]
    },
    {
     "name": "stdout",
     "output_type": "stream",
     "text": [
      "[rank:0] batch-56 (1)x1 ...\n",
      "DDIM scale True\n",
      "ddim device cuda:0\n"
     ]
    },
    {
     "name": "stderr",
     "output_type": "stream",
     "text": [
      "100%|██████████| 50/50 [02:20<00:00,  2.81s/it]\n"
     ]
    },
    {
     "name": "stdout",
     "output_type": "stream",
     "text": [
      "[rank:0] batch-57 (1)x1 ...\n",
      "DDIM scale True\n",
      "ddim device cuda:0\n"
     ]
    },
    {
     "name": "stderr",
     "output_type": "stream",
     "text": [
      "100%|██████████| 50/50 [02:20<00:00,  2.81s/it]\n"
     ]
    },
    {
     "name": "stdout",
     "output_type": "stream",
     "text": [
      "[rank:0] batch-58 (1)x1 ...\n",
      "DDIM scale True\n",
      "ddim device cuda:0\n"
     ]
    },
    {
     "name": "stderr",
     "output_type": "stream",
     "text": [
      "100%|██████████| 50/50 [02:20<00:00,  2.81s/it]\n"
     ]
    },
    {
     "name": "stdout",
     "output_type": "stream",
     "text": [
      "[rank:0] batch-59 (1)x1 ...\n",
      "DDIM scale True\n",
      "ddim device cuda:0\n"
     ]
    },
    {
     "name": "stderr",
     "output_type": "stream",
     "text": [
      "100%|██████████| 50/50 [02:20<00:00,  2.81s/it]\n"
     ]
    },
    {
     "name": "stdout",
     "output_type": "stream",
     "text": [
      "[rank:0] batch-60 (1)x1 ...\n",
      "DDIM scale True\n",
      "ddim device cuda:0\n"
     ]
    },
    {
     "name": "stderr",
     "output_type": "stream",
     "text": [
      "100%|██████████| 50/50 [02:20<00:00,  2.81s/it]\n"
     ]
    },
    {
     "name": "stdout",
     "output_type": "stream",
     "text": [
      "[rank:0] batch-61 (1)x1 ...\n",
      "DDIM scale True\n",
      "ddim device cuda:0\n"
     ]
    },
    {
     "name": "stderr",
     "output_type": "stream",
     "text": [
      "100%|██████████| 50/50 [02:20<00:00,  2.81s/it]\n"
     ]
    },
    {
     "name": "stdout",
     "output_type": "stream",
     "text": [
      "[rank:0] batch-62 (1)x1 ...\n",
      "DDIM scale True\n",
      "ddim device cuda:0\n"
     ]
    },
    {
     "name": "stderr",
     "output_type": "stream",
     "text": [
      "100%|██████████| 50/50 [02:20<00:00,  2.81s/it]\n"
     ]
    },
    {
     "name": "stdout",
     "output_type": "stream",
     "text": [
      "[rank:0] batch-63 (1)x1 ...\n",
      "DDIM scale True\n",
      "ddim device cuda:0\n"
     ]
    },
    {
     "name": "stderr",
     "output_type": "stream",
     "text": [
      "100%|██████████| 50/50 [02:20<00:00,  2.81s/it]\n"
     ]
    },
    {
     "name": "stdout",
     "output_type": "stream",
     "text": [
      "[rank:0] batch-64 (1)x1 ...\n",
      "DDIM scale True\n",
      "ddim device cuda:0\n"
     ]
    },
    {
     "name": "stderr",
     "output_type": "stream",
     "text": [
      "100%|██████████| 50/50 [02:20<00:00,  2.81s/it]\n"
     ]
    },
    {
     "name": "stdout",
     "output_type": "stream",
     "text": [
      "[rank:0] batch-65 (1)x1 ...\n",
      "DDIM scale True\n",
      "ddim device cuda:0\n"
     ]
    },
    {
     "name": "stderr",
     "output_type": "stream",
     "text": [
      "100%|██████████| 50/50 [02:20<00:00,  2.81s/it]\n"
     ]
    },
    {
     "name": "stdout",
     "output_type": "stream",
     "text": [
      "[rank:0] batch-66 (1)x1 ...\n",
      "DDIM scale True\n",
      "ddim device cuda:0\n"
     ]
    },
    {
     "name": "stderr",
     "output_type": "stream",
     "text": [
      "100%|██████████| 50/50 [02:20<00:00,  2.81s/it]\n"
     ]
    },
    {
     "name": "stdout",
     "output_type": "stream",
     "text": [
      "[rank:0] batch-67 (1)x1 ...\n",
      "DDIM scale True\n",
      "ddim device cuda:0\n"
     ]
    },
    {
     "name": "stderr",
     "output_type": "stream",
     "text": [
      "100%|██████████| 50/50 [02:20<00:00,  2.81s/it]\n"
     ]
    },
    {
     "name": "stdout",
     "output_type": "stream",
     "text": [
      "[rank:0] batch-68 (1)x1 ...\n",
      "DDIM scale True\n",
      "ddim device cuda:0\n"
     ]
    },
    {
     "name": "stderr",
     "output_type": "stream",
     "text": [
      "100%|██████████| 50/50 [02:20<00:00,  2.81s/it]\n"
     ]
    },
    {
     "name": "stdout",
     "output_type": "stream",
     "text": [
      "[rank:0] batch-69 (1)x1 ...\n",
      "DDIM scale True\n",
      "ddim device cuda:0\n"
     ]
    },
    {
     "name": "stderr",
     "output_type": "stream",
     "text": [
      "100%|██████████| 50/50 [02:20<00:00,  2.81s/it]\n"
     ]
    },
    {
     "name": "stdout",
     "output_type": "stream",
     "text": [
      "[rank:0] batch-70 (1)x1 ...\n",
      "DDIM scale True\n",
      "ddim device cuda:0\n"
     ]
    },
    {
     "name": "stderr",
     "output_type": "stream",
     "text": [
      "100%|██████████| 50/50 [02:20<00:00,  2.81s/it]\n"
     ]
    },
    {
     "name": "stdout",
     "output_type": "stream",
     "text": [
      "[rank:0] batch-71 (1)x1 ...\n",
      "DDIM scale True\n",
      "ddim device cuda:0\n"
     ]
    },
    {
     "name": "stderr",
     "output_type": "stream",
     "text": [
      "100%|██████████| 50/50 [02:20<00:00,  2.81s/it]\n"
     ]
    },
    {
     "name": "stdout",
     "output_type": "stream",
     "text": [
      "[rank:0] batch-72 (1)x1 ...\n",
      "DDIM scale True\n",
      "ddim device cuda:0\n"
     ]
    },
    {
     "name": "stderr",
     "output_type": "stream",
     "text": [
      "100%|██████████| 50/50 [02:20<00:00,  2.81s/it]\n"
     ]
    },
    {
     "name": "stdout",
     "output_type": "stream",
     "text": [
      "[rank:0] batch-73 (1)x1 ...\n",
      "DDIM scale True\n",
      "ddim device cuda:0\n"
     ]
    },
    {
     "name": "stderr",
     "output_type": "stream",
     "text": [
      "100%|██████████| 50/50 [02:20<00:00,  2.81s/it]\n"
     ]
    },
    {
     "name": "stdout",
     "output_type": "stream",
     "text": [
      "[rank:0] batch-74 (1)x1 ...\n",
      "DDIM scale True\n",
      "ddim device cuda:0\n"
     ]
    },
    {
     "name": "stderr",
     "output_type": "stream",
     "text": [
      "100%|██████████| 50/50 [02:20<00:00,  2.81s/it]\n"
     ]
    },
    {
     "name": "stdout",
     "output_type": "stream",
     "text": [
      "[rank:0] batch-75 (1)x1 ...\n",
      "DDIM scale True\n",
      "ddim device cuda:0\n"
     ]
    },
    {
     "name": "stderr",
     "output_type": "stream",
     "text": [
      "100%|██████████| 50/50 [02:20<00:00,  2.81s/it]\n"
     ]
    },
    {
     "name": "stdout",
     "output_type": "stream",
     "text": [
      "[rank:0] batch-76 (1)x1 ...\n",
      "DDIM scale True\n",
      "ddim device cuda:0\n"
     ]
    },
    {
     "name": "stderr",
     "output_type": "stream",
     "text": [
      "100%|██████████| 50/50 [02:20<00:00,  2.81s/it]\n"
     ]
    },
    {
     "name": "stdout",
     "output_type": "stream",
     "text": [
      "[rank:0] batch-77 (1)x1 ...\n",
      "DDIM scale True\n",
      "ddim device cuda:0\n"
     ]
    },
    {
     "name": "stderr",
     "output_type": "stream",
     "text": [
      "100%|██████████| 50/50 [02:20<00:00,  2.81s/it]\n"
     ]
    },
    {
     "name": "stdout",
     "output_type": "stream",
     "text": [
      "[rank:0] batch-78 (1)x1 ...\n",
      "DDIM scale True\n",
      "ddim device cuda:0\n"
     ]
    },
    {
     "name": "stderr",
     "output_type": "stream",
     "text": [
      "100%|██████████| 50/50 [02:20<00:00,  2.81s/it]\n"
     ]
    },
    {
     "name": "stdout",
     "output_type": "stream",
     "text": [
      "[rank:0] batch-79 (1)x1 ...\n",
      "DDIM scale True\n",
      "ddim device cuda:0\n"
     ]
    },
    {
     "name": "stderr",
     "output_type": "stream",
     "text": [
      "100%|██████████| 50/50 [02:20<00:00,  2.81s/it]\n"
     ]
    },
    {
     "name": "stdout",
     "output_type": "stream",
     "text": [
      "[rank:0] batch-80 (1)x1 ...\n",
      "DDIM scale True\n",
      "ddim device cuda:0\n"
     ]
    },
    {
     "name": "stderr",
     "output_type": "stream",
     "text": [
      "100%|██████████| 50/50 [02:20<00:00,  2.81s/it]\n"
     ]
    },
    {
     "name": "stdout",
     "output_type": "stream",
     "text": [
      "[rank:0] batch-81 (1)x1 ...\n",
      "DDIM scale True\n",
      "ddim device cuda:0\n"
     ]
    },
    {
     "name": "stderr",
     "output_type": "stream",
     "text": [
      "100%|██████████| 50/50 [02:20<00:00,  2.81s/it]\n"
     ]
    },
    {
     "name": "stdout",
     "output_type": "stream",
     "text": [
      "[rank:0] batch-82 (1)x1 ...\n",
      "DDIM scale True\n",
      "ddim device cuda:0\n"
     ]
    },
    {
     "name": "stderr",
     "output_type": "stream",
     "text": [
      "100%|██████████| 50/50 [02:20<00:00,  2.81s/it]\n"
     ]
    },
    {
     "name": "stdout",
     "output_type": "stream",
     "text": [
      "[rank:0] batch-83 (1)x1 ...\n",
      "DDIM scale True\n",
      "ddim device cuda:0\n"
     ]
    },
    {
     "name": "stderr",
     "output_type": "stream",
     "text": [
      "100%|██████████| 50/50 [02:20<00:00,  2.81s/it]\n"
     ]
    },
    {
     "name": "stdout",
     "output_type": "stream",
     "text": [
      "[rank:0] batch-84 (1)x1 ...\n",
      "DDIM scale True\n",
      "ddim device cuda:0\n"
     ]
    },
    {
     "name": "stderr",
     "output_type": "stream",
     "text": [
      "100%|██████████| 50/50 [02:20<00:00,  2.81s/it]\n"
     ]
    },
    {
     "name": "stdout",
     "output_type": "stream",
     "text": [
      "[rank:0] batch-85 (1)x1 ...\n",
      "DDIM scale True\n",
      "ddim device cuda:0\n"
     ]
    },
    {
     "name": "stderr",
     "output_type": "stream",
     "text": [
      "100%|██████████| 50/50 [02:20<00:00,  2.81s/it]\n"
     ]
    },
    {
     "name": "stdout",
     "output_type": "stream",
     "text": [
      "[rank:0] batch-86 (1)x1 ...\n",
      "DDIM scale True\n",
      "ddim device cuda:0\n"
     ]
    },
    {
     "name": "stderr",
     "output_type": "stream",
     "text": [
      "100%|██████████| 50/50 [02:20<00:00,  2.81s/it]\n"
     ]
    },
    {
     "name": "stdout",
     "output_type": "stream",
     "text": [
      "[rank:0] batch-87 (1)x1 ...\n",
      "DDIM scale True\n",
      "ddim device cuda:0\n"
     ]
    },
    {
     "name": "stderr",
     "output_type": "stream",
     "text": [
      "100%|██████████| 50/50 [02:20<00:00,  2.81s/it]\n"
     ]
    },
    {
     "name": "stdout",
     "output_type": "stream",
     "text": [
      "[rank:0] batch-88 (1)x1 ...\n",
      "DDIM scale True\n",
      "ddim device cuda:0\n"
     ]
    },
    {
     "name": "stderr",
     "output_type": "stream",
     "text": [
      "100%|██████████| 50/50 [02:20<00:00,  2.81s/it]\n"
     ]
    },
    {
     "name": "stdout",
     "output_type": "stream",
     "text": [
      "[rank:0] batch-89 (1)x1 ...\n",
      "DDIM scale True\n",
      "ddim device cuda:0\n"
     ]
    },
    {
     "name": "stderr",
     "output_type": "stream",
     "text": [
      "100%|██████████| 50/50 [02:20<00:00,  2.81s/it]\n"
     ]
    },
    {
     "name": "stdout",
     "output_type": "stream",
     "text": [
      "[rank:0] batch-90 (1)x1 ...\n",
      "DDIM scale True\n",
      "ddim device cuda:0\n"
     ]
    },
    {
     "name": "stderr",
     "output_type": "stream",
     "text": [
      "100%|██████████| 50/50 [02:20<00:00,  2.81s/it]\n"
     ]
    },
    {
     "name": "stdout",
     "output_type": "stream",
     "text": [
      "[rank:0] batch-91 (1)x1 ...\n",
      "DDIM scale True\n",
      "ddim device cuda:0\n"
     ]
    },
    {
     "name": "stderr",
     "output_type": "stream",
     "text": [
      "100%|██████████| 50/50 [02:20<00:00,  2.81s/it]\n"
     ]
    },
    {
     "name": "stdout",
     "output_type": "stream",
     "text": [
      "[rank:0] batch-92 (1)x1 ...\n",
      "DDIM scale True\n",
      "ddim device cuda:0\n"
     ]
    },
    {
     "name": "stderr",
     "output_type": "stream",
     "text": [
      "100%|██████████| 50/50 [02:20<00:00,  2.81s/it]\n"
     ]
    },
    {
     "name": "stdout",
     "output_type": "stream",
     "text": [
      "[rank:0] batch-93 (1)x1 ...\n",
      "DDIM scale True\n",
      "ddim device cuda:0\n"
     ]
    },
    {
     "name": "stderr",
     "output_type": "stream",
     "text": [
      "100%|██████████| 50/50 [02:20<00:00,  2.81s/it]\n"
     ]
    },
    {
     "name": "stdout",
     "output_type": "stream",
     "text": [
      "[rank:0] batch-94 (1)x1 ...\n",
      "DDIM scale True\n",
      "ddim device cuda:0\n"
     ]
    },
    {
     "name": "stderr",
     "output_type": "stream",
     "text": [
      "100%|██████████| 50/50 [02:20<00:00,  2.81s/it]\n"
     ]
    },
    {
     "name": "stdout",
     "output_type": "stream",
     "text": [
      "[rank:0] batch-95 (1)x1 ...\n",
      "DDIM scale True\n",
      "ddim device cuda:0\n"
     ]
    },
    {
     "name": "stderr",
     "output_type": "stream",
     "text": [
      "100%|██████████| 50/50 [02:20<00:00,  2.81s/it]\n"
     ]
    },
    {
     "name": "stdout",
     "output_type": "stream",
     "text": [
      "[rank:0] batch-96 (1)x1 ...\n",
      "DDIM scale True\n",
      "ddim device cuda:0\n"
     ]
    },
    {
     "name": "stderr",
     "output_type": "stream",
     "text": [
      "100%|██████████| 50/50 [02:20<00:00,  2.81s/it]\n"
     ]
    },
    {
     "name": "stdout",
     "output_type": "stream",
     "text": [
      "[rank:0] batch-97 (1)x1 ...\n",
      "DDIM scale True\n",
      "ddim device cuda:0\n"
     ]
    },
    {
     "name": "stderr",
     "output_type": "stream",
     "text": [
      "100%|██████████| 50/50 [02:20<00:00,  2.81s/it]\n"
     ]
    },
    {
     "name": "stdout",
     "output_type": "stream",
     "text": [
      "[rank:0] batch-98 (1)x1 ...\n",
      "DDIM scale True\n",
      "ddim device cuda:0\n"
     ]
    },
    {
     "name": "stderr",
     "output_type": "stream",
     "text": [
      "100%|██████████| 50/50 [02:20<00:00,  2.81s/it]\n"
     ]
    },
    {
     "name": "stdout",
     "output_type": "stream",
     "text": [
      "[rank:0] batch-99 (1)x1 ...\n",
      "DDIM scale True\n",
      "ddim device cuda:0\n"
     ]
    },
    {
     "name": "stderr",
     "output_type": "stream",
     "text": [
      "100%|██████████| 50/50 [02:20<00:00,  2.81s/it]\n"
     ]
    },
    {
     "name": "stdout",
     "output_type": "stream",
     "text": [
      "[rank:0] batch-100 (1)x1 ...\n",
      "DDIM scale True\n",
      "ddim device cuda:0\n"
     ]
    },
    {
     "name": "stderr",
     "output_type": "stream",
     "text": [
      "100%|██████████| 50/50 [02:20<00:00,  2.81s/it]\n"
     ]
    },
    {
     "name": "stdout",
     "output_type": "stream",
     "text": [
      "[rank:0] batch-101 (1)x1 ...\n",
      "DDIM scale True\n",
      "ddim device cuda:0\n"
     ]
    },
    {
     "name": "stderr",
     "output_type": "stream",
     "text": [
      "100%|██████████| 50/50 [02:20<00:00,  2.81s/it]\n"
     ]
    },
    {
     "name": "stdout",
     "output_type": "stream",
     "text": [
      "[rank:0] batch-102 (1)x1 ...\n",
      "DDIM scale True\n",
      "ddim device cuda:0\n"
     ]
    },
    {
     "name": "stderr",
     "output_type": "stream",
     "text": [
      "100%|██████████| 50/50 [02:20<00:00,  2.81s/it]\n"
     ]
    },
    {
     "name": "stdout",
     "output_type": "stream",
     "text": [
      "[rank:0] batch-103 (1)x1 ...\n",
      "DDIM scale True\n",
      "ddim device cuda:0\n"
     ]
    },
    {
     "name": "stderr",
     "output_type": "stream",
     "text": [
      "100%|██████████| 50/50 [02:20<00:00,  2.81s/it]\n"
     ]
    },
    {
     "name": "stdout",
     "output_type": "stream",
     "text": [
      "[rank:0] batch-104 (1)x1 ...\n",
      "DDIM scale True\n",
      "ddim device cuda:0\n"
     ]
    },
    {
     "name": "stderr",
     "output_type": "stream",
     "text": [
      "100%|██████████| 50/50 [02:20<00:00,  2.81s/it]\n"
     ]
    },
    {
     "name": "stdout",
     "output_type": "stream",
     "text": [
      "[rank:0] batch-105 (1)x1 ...\n",
      "DDIM scale True\n",
      "ddim device cuda:0\n"
     ]
    },
    {
     "name": "stderr",
     "output_type": "stream",
     "text": [
      "100%|██████████| 50/50 [02:20<00:00,  2.81s/it]\n"
     ]
    },
    {
     "name": "stdout",
     "output_type": "stream",
     "text": [
      "[rank:0] batch-106 (1)x1 ...\n",
      "DDIM scale True\n",
      "ddim device cuda:0\n"
     ]
    },
    {
     "name": "stderr",
     "output_type": "stream",
     "text": [
      "100%|██████████| 50/50 [02:20<00:00,  2.81s/it]\n"
     ]
    },
    {
     "name": "stdout",
     "output_type": "stream",
     "text": [
      "[rank:0] batch-107 (1)x1 ...\n",
      "DDIM scale True\n",
      "ddim device cuda:0\n"
     ]
    },
    {
     "name": "stderr",
     "output_type": "stream",
     "text": [
      "100%|██████████| 50/50 [02:20<00:00,  2.81s/it]\n"
     ]
    },
    {
     "name": "stdout",
     "output_type": "stream",
     "text": [
      "[rank:0] batch-108 (1)x1 ...\n",
      "DDIM scale True\n",
      "ddim device cuda:0\n"
     ]
    },
    {
     "name": "stderr",
     "output_type": "stream",
     "text": [
      "100%|██████████| 50/50 [02:20<00:00,  2.81s/it]\n"
     ]
    },
    {
     "name": "stdout",
     "output_type": "stream",
     "text": [
      "[rank:0] batch-109 (1)x1 ...\n",
      "DDIM scale True\n",
      "ddim device cuda:0\n"
     ]
    },
    {
     "name": "stderr",
     "output_type": "stream",
     "text": [
      "100%|██████████| 50/50 [02:20<00:00,  2.81s/it]\n"
     ]
    },
    {
     "name": "stdout",
     "output_type": "stream",
     "text": [
      "[rank:0] batch-110 (1)x1 ...\n",
      "DDIM scale True\n",
      "ddim device cuda:0\n"
     ]
    },
    {
     "name": "stderr",
     "output_type": "stream",
     "text": [
      "100%|██████████| 50/50 [02:20<00:00,  2.81s/it]\n"
     ]
    },
    {
     "name": "stdout",
     "output_type": "stream",
     "text": [
      "[rank:0] batch-111 (1)x1 ...\n",
      "DDIM scale True\n",
      "ddim device cuda:0\n"
     ]
    },
    {
     "name": "stderr",
     "output_type": "stream",
     "text": [
      "100%|██████████| 50/50 [02:20<00:00,  2.81s/it]\n"
     ]
    },
    {
     "name": "stdout",
     "output_type": "stream",
     "text": [
      "[rank:0] batch-112 (1)x1 ...\n",
      "DDIM scale True\n",
      "ddim device cuda:0\n"
     ]
    },
    {
     "name": "stderr",
     "output_type": "stream",
     "text": [
      "100%|██████████| 50/50 [02:20<00:00,  2.81s/it]\n"
     ]
    },
    {
     "name": "stdout",
     "output_type": "stream",
     "text": [
      "[rank:0] batch-113 (1)x1 ...\n",
      "DDIM scale True\n",
      "ddim device cuda:0\n"
     ]
    },
    {
     "name": "stderr",
     "output_type": "stream",
     "text": [
      "100%|██████████| 50/50 [02:20<00:00,  2.81s/it]\n"
     ]
    },
    {
     "name": "stdout",
     "output_type": "stream",
     "text": [
      "[rank:0] batch-114 (1)x1 ...\n",
      "DDIM scale True\n",
      "ddim device cuda:0\n"
     ]
    },
    {
     "name": "stderr",
     "output_type": "stream",
     "text": [
      "100%|██████████| 50/50 [02:20<00:00,  2.81s/it]\n"
     ]
    },
    {
     "name": "stdout",
     "output_type": "stream",
     "text": [
      "[rank:0] batch-115 (1)x1 ...\n",
      "DDIM scale True\n",
      "ddim device cuda:0\n"
     ]
    },
    {
     "name": "stderr",
     "output_type": "stream",
     "text": [
      "100%|██████████| 50/50 [02:20<00:00,  2.81s/it]\n"
     ]
    },
    {
     "name": "stdout",
     "output_type": "stream",
     "text": [
      "[rank:0] batch-116 (1)x1 ...\n",
      "DDIM scale True\n",
      "ddim device cuda:0\n"
     ]
    },
    {
     "name": "stderr",
     "output_type": "stream",
     "text": [
      "100%|██████████| 50/50 [02:20<00:00,  2.81s/it]\n"
     ]
    },
    {
     "name": "stdout",
     "output_type": "stream",
     "text": [
      "[rank:0] batch-117 (1)x1 ...\n",
      "DDIM scale True\n",
      "ddim device cuda:0\n"
     ]
    },
    {
     "name": "stderr",
     "output_type": "stream",
     "text": [
      "100%|██████████| 50/50 [02:20<00:00,  2.81s/it]\n"
     ]
    },
    {
     "name": "stdout",
     "output_type": "stream",
     "text": [
      "[rank:0] batch-118 (1)x1 ...\n",
      "DDIM scale True\n",
      "ddim device cuda:0\n"
     ]
    },
    {
     "name": "stderr",
     "output_type": "stream",
     "text": [
      "100%|██████████| 50/50 [02:20<00:00,  2.81s/it]\n"
     ]
    },
    {
     "name": "stdout",
     "output_type": "stream",
     "text": [
      "[rank:0] batch-119 (1)x1 ...\n",
      "DDIM scale True\n",
      "ddim device cuda:0\n"
     ]
    },
    {
     "name": "stderr",
     "output_type": "stream",
     "text": [
      "100%|██████████| 50/50 [02:20<00:00,  2.81s/it]\n"
     ]
    },
    {
     "name": "stdout",
     "output_type": "stream",
     "text": [
      "[rank:0] batch-120 (1)x1 ...\n",
      "DDIM scale True\n",
      "ddim device cuda:0\n"
     ]
    },
    {
     "name": "stderr",
     "output_type": "stream",
     "text": [
      "100%|██████████| 50/50 [02:20<00:00,  2.81s/it]\n"
     ]
    },
    {
     "name": "stdout",
     "output_type": "stream",
     "text": [
      "[rank:0] batch-121 (1)x1 ...\n",
      "DDIM scale True\n",
      "ddim device cuda:0\n"
     ]
    },
    {
     "name": "stderr",
     "output_type": "stream",
     "text": [
      "100%|██████████| 50/50 [02:20<00:00,  2.81s/it]\n"
     ]
    },
    {
     "name": "stdout",
     "output_type": "stream",
     "text": [
      "[rank:0] batch-122 (1)x1 ...\n",
      "DDIM scale True\n",
      "ddim device cuda:0\n"
     ]
    },
    {
     "name": "stderr",
     "output_type": "stream",
     "text": [
      "100%|██████████| 50/50 [02:20<00:00,  2.81s/it]\n"
     ]
    },
    {
     "name": "stdout",
     "output_type": "stream",
     "text": [
      "[rank:0] batch-123 (1)x1 ...\n",
      "DDIM scale True\n",
      "ddim device cuda:0\n"
     ]
    },
    {
     "name": "stderr",
     "output_type": "stream",
     "text": [
      "100%|██████████| 50/50 [02:20<00:00,  2.81s/it]\n"
     ]
    },
    {
     "name": "stdout",
     "output_type": "stream",
     "text": [
      "[rank:0] batch-124 (1)x1 ...\n",
      "DDIM scale True\n",
      "ddim device cuda:0\n"
     ]
    },
    {
     "name": "stderr",
     "output_type": "stream",
     "text": [
      "100%|██████████| 50/50 [02:20<00:00,  2.81s/it]\n"
     ]
    },
    {
     "name": "stdout",
     "output_type": "stream",
     "text": [
      "[rank:0] batch-125 (1)x1 ...\n",
      "DDIM scale True\n",
      "ddim device cuda:0\n"
     ]
    },
    {
     "name": "stderr",
     "output_type": "stream",
     "text": [
      "100%|██████████| 50/50 [02:20<00:00,  2.81s/it]\n"
     ]
    },
    {
     "name": "stdout",
     "output_type": "stream",
     "text": [
      "[rank:0] batch-126 (1)x1 ...\n",
      "DDIM scale True\n",
      "ddim device cuda:0\n"
     ]
    },
    {
     "name": "stderr",
     "output_type": "stream",
     "text": [
      "100%|██████████| 50/50 [02:20<00:00,  2.81s/it]\n"
     ]
    },
    {
     "name": "stdout",
     "output_type": "stream",
     "text": [
      "[rank:0] batch-127 (1)x1 ...\n",
      "DDIM scale True\n",
      "ddim device cuda:0\n"
     ]
    },
    {
     "name": "stderr",
     "output_type": "stream",
     "text": [
      "100%|██████████| 50/50 [02:20<00:00,  2.81s/it]\n"
     ]
    },
    {
     "name": "stdout",
     "output_type": "stream",
     "text": [
      "[rank:0] batch-128 (1)x1 ...\n",
      "DDIM scale True\n",
      "ddim device cuda:0\n"
     ]
    },
    {
     "name": "stderr",
     "output_type": "stream",
     "text": [
      "100%|██████████| 50/50 [02:20<00:00,  2.81s/it]\n"
     ]
    },
    {
     "name": "stdout",
     "output_type": "stream",
     "text": [
      "[rank:0] batch-129 (1)x1 ...\n",
      "DDIM scale True\n",
      "ddim device cuda:0\n"
     ]
    },
    {
     "name": "stderr",
     "output_type": "stream",
     "text": [
      "100%|██████████| 50/50 [02:20<00:00,  2.81s/it]\n"
     ]
    },
    {
     "name": "stdout",
     "output_type": "stream",
     "text": [
      "[rank:0] batch-130 (1)x1 ...\n",
      "DDIM scale True\n",
      "ddim device cuda:0\n"
     ]
    },
    {
     "name": "stderr",
     "output_type": "stream",
     "text": [
      "100%|██████████| 50/50 [02:20<00:00,  2.81s/it]\n"
     ]
    },
    {
     "name": "stdout",
     "output_type": "stream",
     "text": [
      "[rank:0] batch-131 (1)x1 ...\n",
      "DDIM scale True\n",
      "ddim device cuda:0\n"
     ]
    },
    {
     "name": "stderr",
     "output_type": "stream",
     "text": [
      "100%|██████████| 50/50 [02:20<00:00,  2.81s/it]\n"
     ]
    },
    {
     "name": "stdout",
     "output_type": "stream",
     "text": [
      "[rank:0] batch-132 (1)x1 ...\n",
      "DDIM scale True\n",
      "ddim device cuda:0\n"
     ]
    },
    {
     "name": "stderr",
     "output_type": "stream",
     "text": [
      "100%|██████████| 50/50 [02:20<00:00,  2.81s/it]\n"
     ]
    },
    {
     "name": "stdout",
     "output_type": "stream",
     "text": [
      "[rank:0] batch-133 (1)x1 ...\n",
      "DDIM scale True\n",
      "ddim device cuda:0\n"
     ]
    },
    {
     "name": "stderr",
     "output_type": "stream",
     "text": [
      "100%|██████████| 50/50 [02:20<00:00,  2.81s/it]\n"
     ]
    },
    {
     "name": "stdout",
     "output_type": "stream",
     "text": [
      "[rank:0] batch-134 (1)x1 ...\n",
      "DDIM scale True\n",
      "ddim device cuda:0\n"
     ]
    },
    {
     "name": "stderr",
     "output_type": "stream",
     "text": [
      "100%|██████████| 50/50 [02:20<00:00,  2.81s/it]\n"
     ]
    },
    {
     "name": "stdout",
     "output_type": "stream",
     "text": [
      "[rank:0] batch-135 (1)x1 ...\n",
      "DDIM scale True\n",
      "ddim device cuda:0\n"
     ]
    },
    {
     "name": "stderr",
     "output_type": "stream",
     "text": [
      "100%|██████████| 50/50 [02:20<00:00,  2.81s/it]\n"
     ]
    },
    {
     "name": "stdout",
     "output_type": "stream",
     "text": [
      "[rank:0] batch-136 (1)x1 ...\n",
      "DDIM scale True\n",
      "ddim device cuda:0\n"
     ]
    },
    {
     "name": "stderr",
     "output_type": "stream",
     "text": [
      "100%|██████████| 50/50 [02:20<00:00,  2.81s/it]\n"
     ]
    },
    {
     "name": "stdout",
     "output_type": "stream",
     "text": [
      "[rank:0] batch-137 (1)x1 ...\n",
      "DDIM scale True\n",
      "ddim device cuda:0\n"
     ]
    },
    {
     "name": "stderr",
     "output_type": "stream",
     "text": [
      "100%|██████████| 50/50 [02:20<00:00,  2.81s/it]\n"
     ]
    },
    {
     "name": "stdout",
     "output_type": "stream",
     "text": [
      "[rank:0] batch-138 (1)x1 ...\n",
      "DDIM scale True\n",
      "ddim device cuda:0\n"
     ]
    },
    {
     "name": "stderr",
     "output_type": "stream",
     "text": [
      "100%|██████████| 50/50 [02:20<00:00,  2.81s/it]\n"
     ]
    },
    {
     "name": "stdout",
     "output_type": "stream",
     "text": [
      "[rank:0] batch-139 (1)x1 ...\n",
      "DDIM scale True\n",
      "ddim device cuda:0\n"
     ]
    },
    {
     "name": "stderr",
     "output_type": "stream",
     "text": [
      "100%|██████████| 50/50 [02:20<00:00,  2.81s/it]\n"
     ]
    },
    {
     "name": "stdout",
     "output_type": "stream",
     "text": [
      "[rank:0] batch-140 (1)x1 ...\n",
      "DDIM scale True\n",
      "ddim device cuda:0\n"
     ]
    },
    {
     "name": "stderr",
     "output_type": "stream",
     "text": [
      "100%|██████████| 50/50 [02:20<00:00,  2.81s/it]\n"
     ]
    },
    {
     "name": "stdout",
     "output_type": "stream",
     "text": [
      "[rank:0] batch-141 (1)x1 ...\n",
      "DDIM scale True\n",
      "ddim device cuda:0\n"
     ]
    },
    {
     "name": "stderr",
     "output_type": "stream",
     "text": [
      "100%|██████████| 50/50 [02:20<00:00,  2.81s/it]\n"
     ]
    },
    {
     "name": "stdout",
     "output_type": "stream",
     "text": [
      "[rank:0] batch-142 (1)x1 ...\n",
      "DDIM scale True\n",
      "ddim device cuda:0\n"
     ]
    },
    {
     "name": "stderr",
     "output_type": "stream",
     "text": [
      "100%|██████████| 50/50 [02:20<00:00,  2.81s/it]\n"
     ]
    },
    {
     "name": "stdout",
     "output_type": "stream",
     "text": [
      "[rank:0] batch-143 (1)x1 ...\n",
      "DDIM scale True\n",
      "ddim device cuda:0\n"
     ]
    },
    {
     "name": "stderr",
     "output_type": "stream",
     "text": [
      "100%|██████████| 50/50 [02:20<00:00,  2.81s/it]\n"
     ]
    },
    {
     "name": "stdout",
     "output_type": "stream",
     "text": [
      "[rank:0] batch-144 (1)x1 ...\n",
      "DDIM scale True\n",
      "ddim device cuda:0\n"
     ]
    },
    {
     "name": "stderr",
     "output_type": "stream",
     "text": [
      "100%|██████████| 50/50 [02:20<00:00,  2.81s/it]\n"
     ]
    },
    {
     "name": "stdout",
     "output_type": "stream",
     "text": [
      "[rank:0] batch-145 (1)x1 ...\n",
      "DDIM scale True\n",
      "ddim device cuda:0\n"
     ]
    },
    {
     "name": "stderr",
     "output_type": "stream",
     "text": [
      "100%|██████████| 50/50 [02:20<00:00,  2.81s/it]\n"
     ]
    },
    {
     "name": "stdout",
     "output_type": "stream",
     "text": [
      "[rank:0] batch-146 (1)x1 ...\n",
      "DDIM scale True\n",
      "ddim device cuda:0\n"
     ]
    },
    {
     "name": "stderr",
     "output_type": "stream",
     "text": [
      "100%|██████████| 50/50 [02:20<00:00,  2.81s/it]\n"
     ]
    },
    {
     "name": "stdout",
     "output_type": "stream",
     "text": [
      "[rank:0] batch-147 (1)x1 ...\n",
      "DDIM scale True\n",
      "ddim device cuda:0\n"
     ]
    },
    {
     "name": "stderr",
     "output_type": "stream",
     "text": [
      "100%|██████████| 50/50 [02:20<00:00,  2.81s/it]\n"
     ]
    },
    {
     "name": "stdout",
     "output_type": "stream",
     "text": [
      "[rank:0] batch-148 (1)x1 ...\n",
      "DDIM scale True\n",
      "ddim device cuda:0\n"
     ]
    },
    {
     "name": "stderr",
     "output_type": "stream",
     "text": [
      "100%|██████████| 50/50 [02:20<00:00,  2.81s/it]\n"
     ]
    },
    {
     "name": "stdout",
     "output_type": "stream",
     "text": [
      "[rank:0] batch-149 (1)x1 ...\n",
      "DDIM scale True\n",
      "ddim device cuda:0\n"
     ]
    },
    {
     "name": "stderr",
     "output_type": "stream",
     "text": [
      "100%|██████████| 50/50 [02:20<00:00,  2.81s/it]\n"
     ]
    },
    {
     "name": "stdout",
     "output_type": "stream",
     "text": [
      "[rank:0] batch-150 (1)x1 ...\n",
      "DDIM scale True\n",
      "ddim device cuda:0\n"
     ]
    },
    {
     "name": "stderr",
     "output_type": "stream",
     "text": [
      "100%|██████████| 50/50 [02:20<00:00,  2.81s/it]\n"
     ]
    },
    {
     "name": "stdout",
     "output_type": "stream",
     "text": [
      "[rank:0] batch-151 (1)x1 ...\n",
      "DDIM scale True\n",
      "ddim device cuda:0\n"
     ]
    },
    {
     "name": "stderr",
     "output_type": "stream",
     "text": [
      "100%|██████████| 50/50 [02:20<00:00,  2.81s/it]\n"
     ]
    },
    {
     "name": "stdout",
     "output_type": "stream",
     "text": [
      "[rank:0] batch-152 (1)x1 ...\n",
      "DDIM scale True\n",
      "ddim device cuda:0\n"
     ]
    },
    {
     "name": "stderr",
     "output_type": "stream",
     "text": [
      "100%|██████████| 50/50 [02:20<00:00,  2.81s/it]\n"
     ]
    },
    {
     "name": "stdout",
     "output_type": "stream",
     "text": [
      "[rank:0] batch-153 (1)x1 ...\n",
      "DDIM scale True\n",
      "ddim device cuda:0\n"
     ]
    },
    {
     "name": "stderr",
     "output_type": "stream",
     "text": [
      "100%|██████████| 50/50 [02:20<00:00,  2.81s/it]\n"
     ]
    },
    {
     "name": "stdout",
     "output_type": "stream",
     "text": [
      "[rank:0] batch-154 (1)x1 ...\n",
      "DDIM scale True\n",
      "ddim device cuda:0\n"
     ]
    },
    {
     "name": "stderr",
     "output_type": "stream",
     "text": [
      "100%|██████████| 50/50 [02:20<00:00,  2.81s/it]\n"
     ]
    },
    {
     "name": "stdout",
     "output_type": "stream",
     "text": [
      "[rank:0] batch-155 (1)x1 ...\n",
      "DDIM scale True\n",
      "ddim device cuda:0\n"
     ]
    },
    {
     "name": "stderr",
     "output_type": "stream",
     "text": [
      "100%|██████████| 50/50 [02:20<00:00,  2.81s/it]\n"
     ]
    },
    {
     "name": "stdout",
     "output_type": "stream",
     "text": [
      "[rank:0] batch-156 (1)x1 ...\n",
      "DDIM scale True\n",
      "ddim device cuda:0\n"
     ]
    },
    {
     "name": "stderr",
     "output_type": "stream",
     "text": [
      "100%|██████████| 50/50 [02:20<00:00,  2.81s/it]\n"
     ]
    },
    {
     "name": "stdout",
     "output_type": "stream",
     "text": [
      "[rank:0] batch-157 (1)x1 ...\n",
      "DDIM scale True\n",
      "ddim device cuda:0\n"
     ]
    },
    {
     "name": "stderr",
     "output_type": "stream",
     "text": [
      "100%|██████████| 50/50 [02:20<00:00,  2.81s/it]\n"
     ]
    },
    {
     "name": "stdout",
     "output_type": "stream",
     "text": [
      "[rank:0] batch-158 (1)x1 ...\n",
      "DDIM scale True\n",
      "ddim device cuda:0\n"
     ]
    },
    {
     "name": "stderr",
     "output_type": "stream",
     "text": [
      "100%|██████████| 50/50 [02:20<00:00,  2.81s/it]\n"
     ]
    },
    {
     "name": "stdout",
     "output_type": "stream",
     "text": [
      "[rank:0] batch-159 (1)x1 ...\n",
      "DDIM scale True\n",
      "ddim device cuda:0\n"
     ]
    },
    {
     "name": "stderr",
     "output_type": "stream",
     "text": [
      "100%|██████████| 50/50 [02:20<00:00,  2.81s/it]\n"
     ]
    },
    {
     "name": "stdout",
     "output_type": "stream",
     "text": [
      "[rank:0] batch-160 (1)x1 ...\n",
      "DDIM scale True\n",
      "ddim device cuda:0\n"
     ]
    },
    {
     "name": "stderr",
     "output_type": "stream",
     "text": [
      "100%|██████████| 50/50 [02:20<00:00,  2.81s/it]\n"
     ]
    },
    {
     "name": "stdout",
     "output_type": "stream",
     "text": [
      "[rank:0] batch-161 (1)x1 ...\n",
      "DDIM scale True\n",
      "ddim device cuda:0\n"
     ]
    },
    {
     "name": "stderr",
     "output_type": "stream",
     "text": [
      "100%|██████████| 50/50 [02:20<00:00,  2.81s/it]\n"
     ]
    },
    {
     "name": "stdout",
     "output_type": "stream",
     "text": [
      "[rank:0] batch-162 (1)x1 ...\n",
      "DDIM scale True\n",
      "ddim device cuda:0\n"
     ]
    },
    {
     "name": "stderr",
     "output_type": "stream",
     "text": [
      "100%|██████████| 50/50 [02:20<00:00,  2.81s/it]\n"
     ]
    },
    {
     "name": "stdout",
     "output_type": "stream",
     "text": [
      "[rank:0] batch-163 (1)x1 ...\n",
      "DDIM scale True\n",
      "ddim device cuda:0\n"
     ]
    },
    {
     "name": "stderr",
     "output_type": "stream",
     "text": [
      "100%|██████████| 50/50 [02:20<00:00,  2.81s/it]\n"
     ]
    },
    {
     "name": "stdout",
     "output_type": "stream",
     "text": [
      "[rank:0] batch-164 (1)x1 ...\n",
      "DDIM scale True\n",
      "ddim device cuda:0\n"
     ]
    },
    {
     "name": "stderr",
     "output_type": "stream",
     "text": [
      "100%|██████████| 50/50 [02:20<00:00,  2.81s/it]\n"
     ]
    },
    {
     "name": "stdout",
     "output_type": "stream",
     "text": [
      "[rank:0] batch-165 (1)x1 ...\n",
      "DDIM scale True\n",
      "ddim device cuda:0\n"
     ]
    },
    {
     "name": "stderr",
     "output_type": "stream",
     "text": [
      "100%|██████████| 50/50 [02:20<00:00,  2.81s/it]\n"
     ]
    },
    {
     "name": "stdout",
     "output_type": "stream",
     "text": [
      "[rank:0] batch-166 (1)x1 ...\n",
      "DDIM scale True\n",
      "ddim device cuda:0\n"
     ]
    },
    {
     "name": "stderr",
     "output_type": "stream",
     "text": [
      "100%|██████████| 50/50 [02:20<00:00,  2.81s/it]\n"
     ]
    },
    {
     "name": "stdout",
     "output_type": "stream",
     "text": [
      "[rank:0] batch-167 (1)x1 ...\n",
      "DDIM scale True\n",
      "ddim device cuda:0\n"
     ]
    },
    {
     "name": "stderr",
     "output_type": "stream",
     "text": [
      "100%|██████████| 50/50 [02:20<00:00,  2.81s/it]\n"
     ]
    },
    {
     "name": "stdout",
     "output_type": "stream",
     "text": [
      "[rank:0] batch-168 (1)x1 ...\n",
      "DDIM scale True\n",
      "ddim device cuda:0\n"
     ]
    },
    {
     "name": "stderr",
     "output_type": "stream",
     "text": [
      "100%|██████████| 50/50 [02:20<00:00,  2.81s/it]\n"
     ]
    },
    {
     "name": "stdout",
     "output_type": "stream",
     "text": [
      "[rank:0] batch-169 (1)x1 ...\n",
      "DDIM scale True\n",
      "ddim device cuda:0\n"
     ]
    },
    {
     "name": "stderr",
     "output_type": "stream",
     "text": [
      "100%|██████████| 50/50 [02:20<00:00,  2.81s/it]\n"
     ]
    },
    {
     "name": "stdout",
     "output_type": "stream",
     "text": [
      "[rank:0] batch-170 (1)x1 ...\n",
      "DDIM scale True\n",
      "ddim device cuda:0\n"
     ]
    },
    {
     "name": "stderr",
     "output_type": "stream",
     "text": [
      "100%|██████████| 50/50 [02:20<00:00,  2.81s/it]\n"
     ]
    },
    {
     "name": "stdout",
     "output_type": "stream",
     "text": [
      "[rank:0] batch-171 (1)x1 ...\n",
      "DDIM scale True\n",
      "ddim device cuda:0\n"
     ]
    },
    {
     "name": "stderr",
     "output_type": "stream",
     "text": [
      "100%|██████████| 50/50 [02:20<00:00,  2.81s/it]\n"
     ]
    },
    {
     "name": "stdout",
     "output_type": "stream",
     "text": [
      "[rank:0] batch-172 (1)x1 ...\n",
      "DDIM scale True\n",
      "ddim device cuda:0\n"
     ]
    },
    {
     "name": "stderr",
     "output_type": "stream",
     "text": [
      "100%|██████████| 50/50 [02:20<00:00,  2.81s/it]\n"
     ]
    },
    {
     "name": "stdout",
     "output_type": "stream",
     "text": [
      "[rank:0] batch-173 (1)x1 ...\n",
      "DDIM scale True\n",
      "ddim device cuda:0\n"
     ]
    },
    {
     "name": "stderr",
     "output_type": "stream",
     "text": [
      "100%|██████████| 50/50 [02:20<00:00,  2.81s/it]\n"
     ]
    },
    {
     "name": "stdout",
     "output_type": "stream",
     "text": [
      "[rank:0] batch-174 (1)x1 ...\n",
      "DDIM scale True\n",
      "ddim device cuda:0\n"
     ]
    },
    {
     "name": "stderr",
     "output_type": "stream",
     "text": [
      "100%|██████████| 50/50 [02:20<00:00,  2.81s/it]\n"
     ]
    },
    {
     "name": "stdout",
     "output_type": "stream",
     "text": [
      "[rank:0] batch-175 (1)x1 ...\n",
      "DDIM scale True\n",
      "ddim device cuda:0\n"
     ]
    },
    {
     "name": "stderr",
     "output_type": "stream",
     "text": [
      "100%|██████████| 50/50 [02:20<00:00,  2.81s/it]\n"
     ]
    },
    {
     "name": "stdout",
     "output_type": "stream",
     "text": [
      "[rank:0] batch-176 (1)x1 ...\n",
      "DDIM scale True\n",
      "ddim device cuda:0\n"
     ]
    },
    {
     "name": "stderr",
     "output_type": "stream",
     "text": [
      "100%|██████████| 50/50 [02:20<00:00,  2.81s/it]\n"
     ]
    },
    {
     "name": "stdout",
     "output_type": "stream",
     "text": [
      "[rank:0] batch-177 (1)x1 ...\n",
      "DDIM scale True\n",
      "ddim device cuda:0\n"
     ]
    },
    {
     "name": "stderr",
     "output_type": "stream",
     "text": [
      "100%|██████████| 50/50 [02:20<00:00,  2.81s/it]\n"
     ]
    },
    {
     "name": "stdout",
     "output_type": "stream",
     "text": [
      "[rank:0] batch-178 (1)x1 ...\n",
      "DDIM scale True\n",
      "ddim device cuda:0\n"
     ]
    },
    {
     "name": "stderr",
     "output_type": "stream",
     "text": [
      "100%|██████████| 50/50 [02:20<00:00,  2.81s/it]\n"
     ]
    },
    {
     "name": "stdout",
     "output_type": "stream",
     "text": [
      "[rank:0] batch-179 (1)x1 ...\n",
      "DDIM scale True\n",
      "ddim device cuda:0\n"
     ]
    },
    {
     "name": "stderr",
     "output_type": "stream",
     "text": [
      "100%|██████████| 50/50 [02:20<00:00,  2.81s/it]\n"
     ]
    },
    {
     "name": "stdout",
     "output_type": "stream",
     "text": [
      "[rank:0] batch-180 (1)x1 ...\n",
      "DDIM scale True\n",
      "ddim device cuda:0\n"
     ]
    },
    {
     "name": "stderr",
     "output_type": "stream",
     "text": [
      "100%|██████████| 50/50 [02:20<00:00,  2.81s/it]\n"
     ]
    },
    {
     "name": "stdout",
     "output_type": "stream",
     "text": [
      "[rank:0] batch-181 (1)x1 ...\n",
      "DDIM scale True\n",
      "ddim device cuda:0\n"
     ]
    },
    {
     "name": "stderr",
     "output_type": "stream",
     "text": [
      "100%|██████████| 50/50 [02:20<00:00,  2.81s/it]\n"
     ]
    },
    {
     "name": "stdout",
     "output_type": "stream",
     "text": [
      "[rank:0] batch-182 (1)x1 ...\n",
      "DDIM scale True\n",
      "ddim device cuda:0\n"
     ]
    },
    {
     "name": "stderr",
     "output_type": "stream",
     "text": [
      "100%|██████████| 50/50 [02:20<00:00,  2.81s/it]\n"
     ]
    },
    {
     "name": "stdout",
     "output_type": "stream",
     "text": [
      "[rank:0] batch-183 (1)x1 ...\n",
      "DDIM scale True\n",
      "ddim device cuda:0\n"
     ]
    },
    {
     "name": "stderr",
     "output_type": "stream",
     "text": [
      "100%|██████████| 50/50 [02:20<00:00,  2.81s/it]\n"
     ]
    },
    {
     "name": "stdout",
     "output_type": "stream",
     "text": [
      "[rank:0] batch-184 (1)x1 ...\n",
      "DDIM scale True\n",
      "ddim device cuda:0\n"
     ]
    },
    {
     "name": "stderr",
     "output_type": "stream",
     "text": [
      "100%|██████████| 50/50 [02:20<00:00,  2.81s/it]\n"
     ]
    },
    {
     "name": "stdout",
     "output_type": "stream",
     "text": [
      "[rank:0] batch-185 (1)x1 ...\n",
      "DDIM scale True\n",
      "ddim device cuda:0\n"
     ]
    },
    {
     "name": "stderr",
     "output_type": "stream",
     "text": [
      "100%|██████████| 50/50 [02:20<00:00,  2.81s/it]\n"
     ]
    },
    {
     "name": "stdout",
     "output_type": "stream",
     "text": [
      "[rank:0] batch-186 (1)x1 ...\n",
      "DDIM scale True\n",
      "ddim device cuda:0\n"
     ]
    },
    {
     "name": "stderr",
     "output_type": "stream",
     "text": [
      "100%|██████████| 50/50 [02:20<00:00,  2.81s/it]\n"
     ]
    },
    {
     "name": "stdout",
     "output_type": "stream",
     "text": [
      "[rank:0] batch-187 (1)x1 ...\n",
      "DDIM scale True\n",
      "ddim device cuda:0\n"
     ]
    },
    {
     "name": "stderr",
     "output_type": "stream",
     "text": [
      "100%|██████████| 50/50 [02:20<00:00,  2.81s/it]\n"
     ]
    },
    {
     "name": "stdout",
     "output_type": "stream",
     "text": [
      "[rank:0] batch-188 (1)x1 ...\n",
      "DDIM scale True\n",
      "ddim device cuda:0\n"
     ]
    },
    {
     "name": "stderr",
     "output_type": "stream",
     "text": [
      "100%|██████████| 50/50 [02:20<00:00,  2.81s/it]\n"
     ]
    },
    {
     "name": "stdout",
     "output_type": "stream",
     "text": [
      "[rank:0] batch-189 (1)x1 ...\n",
      "DDIM scale True\n",
      "ddim device cuda:0\n"
     ]
    },
    {
     "name": "stderr",
     "output_type": "stream",
     "text": [
      "100%|██████████| 50/50 [02:20<00:00,  2.81s/it]\n"
     ]
    },
    {
     "name": "stdout",
     "output_type": "stream",
     "text": [
      "[rank:0] batch-190 (1)x1 ...\n",
      "DDIM scale True\n",
      "ddim device cuda:0\n"
     ]
    },
    {
     "name": "stderr",
     "output_type": "stream",
     "text": [
      "100%|██████████| 50/50 [02:20<00:00,  2.81s/it]\n"
     ]
    },
    {
     "name": "stdout",
     "output_type": "stream",
     "text": [
      "[rank:0] batch-191 (1)x1 ...\n",
      "DDIM scale True\n",
      "ddim device cuda:0\n"
     ]
    },
    {
     "name": "stderr",
     "output_type": "stream",
     "text": [
      "100%|██████████| 50/50 [02:20<00:00,  2.81s/it]\n"
     ]
    },
    {
     "name": "stdout",
     "output_type": "stream",
     "text": [
      "[rank:0] batch-192 (1)x1 ...\n",
      "DDIM scale True\n",
      "ddim device cuda:0\n"
     ]
    },
    {
     "name": "stderr",
     "output_type": "stream",
     "text": [
      "100%|██████████| 50/50 [02:20<00:00,  2.81s/it]\n"
     ]
    },
    {
     "name": "stdout",
     "output_type": "stream",
     "text": [
      "[rank:0] batch-193 (1)x1 ...\n",
      "DDIM scale True\n",
      "ddim device cuda:0\n"
     ]
    },
    {
     "name": "stderr",
     "output_type": "stream",
     "text": [
      "100%|██████████| 50/50 [02:20<00:00,  2.81s/it]\n"
     ]
    },
    {
     "name": "stdout",
     "output_type": "stream",
     "text": [
      "[rank:0] batch-194 (1)x1 ...\n",
      "DDIM scale True\n",
      "ddim device cuda:0\n"
     ]
    },
    {
     "name": "stderr",
     "output_type": "stream",
     "text": [
      "100%|██████████| 50/50 [02:20<00:00,  2.81s/it]\n"
     ]
    },
    {
     "name": "stdout",
     "output_type": "stream",
     "text": [
      "[rank:0] batch-195 (1)x1 ...\n",
      "DDIM scale True\n",
      "ddim device cuda:0\n"
     ]
    },
    {
     "name": "stderr",
     "output_type": "stream",
     "text": [
      "100%|██████████| 50/50 [02:20<00:00,  2.81s/it]\n"
     ]
    },
    {
     "name": "stdout",
     "output_type": "stream",
     "text": [
      "[rank:0] batch-196 (1)x1 ...\n",
      "DDIM scale True\n",
      "ddim device cuda:0\n"
     ]
    },
    {
     "name": "stderr",
     "output_type": "stream",
     "text": [
      "100%|██████████| 50/50 [02:20<00:00,  2.81s/it]\n"
     ]
    },
    {
     "name": "stdout",
     "output_type": "stream",
     "text": [
      "[rank:0] batch-197 (1)x1 ...\n",
      "DDIM scale True\n",
      "ddim device cuda:0\n"
     ]
    },
    {
     "name": "stderr",
     "output_type": "stream",
     "text": [
      "100%|██████████| 50/50 [02:20<00:00,  2.81s/it]\n"
     ]
    },
    {
     "name": "stdout",
     "output_type": "stream",
     "text": [
      "[rank:0] batch-198 (1)x1 ...\n",
      "DDIM scale True\n",
      "ddim device cuda:0\n"
     ]
    },
    {
     "name": "stderr",
     "output_type": "stream",
     "text": [
      "100%|██████████| 50/50 [02:20<00:00,  2.81s/it]\n"
     ]
    },
    {
     "name": "stdout",
     "output_type": "stream",
     "text": [
      "[rank:0] batch-199 (1)x1 ...\n",
      "DDIM scale True\n",
      "ddim device cuda:0\n"
     ]
    },
    {
     "name": "stderr",
     "output_type": "stream",
     "text": [
      "100%|██████████| 50/50 [02:20<00:00,  2.81s/it]\n"
     ]
    },
    {
     "name": "stdout",
     "output_type": "stream",
     "text": [
      "[rank:0] batch-200 (1)x1 ...\n",
      "DDIM scale True\n",
      "ddim device cuda:0\n"
     ]
    },
    {
     "name": "stderr",
     "output_type": "stream",
     "text": [
      "100%|██████████| 50/50 [02:20<00:00,  2.81s/it]\n"
     ]
    },
    {
     "name": "stdout",
     "output_type": "stream",
     "text": [
      "[rank:0] batch-201 (1)x1 ...\n",
      "DDIM scale True\n",
      "ddim device cuda:0\n"
     ]
    },
    {
     "name": "stderr",
     "output_type": "stream",
     "text": [
      "100%|██████████| 50/50 [02:20<00:00,  2.81s/it]\n"
     ]
    },
    {
     "name": "stdout",
     "output_type": "stream",
     "text": [
      "[rank:0] batch-202 (1)x1 ...\n",
      "DDIM scale True\n",
      "ddim device cuda:0\n"
     ]
    },
    {
     "name": "stderr",
     "output_type": "stream",
     "text": [
      "100%|██████████| 50/50 [02:20<00:00,  2.81s/it]\n"
     ]
    },
    {
     "name": "stdout",
     "output_type": "stream",
     "text": [
      "[rank:0] batch-203 (1)x1 ...\n",
      "DDIM scale True\n",
      "ddim device cuda:0\n"
     ]
    },
    {
     "name": "stderr",
     "output_type": "stream",
     "text": [
      "100%|██████████| 50/50 [02:20<00:00,  2.81s/it]\n"
     ]
    },
    {
     "name": "stdout",
     "output_type": "stream",
     "text": [
      "[rank:0] batch-204 (1)x1 ...\n",
      "DDIM scale True\n",
      "ddim device cuda:0\n"
     ]
    },
    {
     "name": "stderr",
     "output_type": "stream",
     "text": [
      "100%|██████████| 50/50 [02:20<00:00,  2.81s/it]\n"
     ]
    },
    {
     "name": "stdout",
     "output_type": "stream",
     "text": [
      "[rank:0] batch-205 (1)x1 ...\n",
      "DDIM scale True\n",
      "ddim device cuda:0\n"
     ]
    },
    {
     "name": "stderr",
     "output_type": "stream",
     "text": [
      "100%|██████████| 50/50 [02:20<00:00,  2.81s/it]\n"
     ]
    },
    {
     "name": "stdout",
     "output_type": "stream",
     "text": [
      "Saved in /home/xuweic/Documents/VideoCrafter/results/base_1024_v1. Time used: 29060.61 seconds\n"
     ]
    }
   ],
   "source": [
    "now = datetime.datetime.now().strftime(\"%Y-%m-%d-%H-%M-%S\")\n",
    "print(\"@CoLVDM Inference: %s\" % now)\n",
    "args = argparse.Namespace(\n",
    "    seed=123123123,\n",
    "    mode=\"base\",\n",
    "    ckpt_path='/home/xuweic/Documents/VideoCrafter/checkpoints/base_1024_v1/model.ckpt',\n",
    "    config='/home/xuweic/Documents/VideoCrafter/configs/inference_t2v_1024_v1.0.yaml',\n",
    "    prompt_file=\"/home/xuweic/Documents/VideoCrafter/prompts/test_prompts.txt\",\n",
    "    savedir=\"/home/xuweic/Documents/VideoCrafter/results/base_1024_v1\",\n",
    "    savefps=10,\n",
    "    n_samples=1,\n",
    "    ddim_steps=50,\n",
    "    ddim_eta=1.0,\n",
    "    bs=1,\n",
    "    height=320,\n",
    "    width=512,\n",
    "    frames=-1,\n",
    "    fps=28,\n",
    "    unconditional_guidance_scale=12.0,\n",
    "    unconditional_guidance_scale_temporal=None,\n",
    "    cond_input=None\n",
    ")\n",
    "\n",
    "# Ensure consistent behavior across runs\n",
    "seed_everything(args.seed)\n",
    "\n",
    "# Assuming these are relevant to your distributed setup or other logic\n",
    "rank, gpu_num = 0, 1\n",
    "\n",
    "# Run the inference with the manually set arguments\n",
    "run_inference(args, gpu_num, rank)"
   ]
  },
  {
   "cell_type": "code",
   "execution_count": null,
   "metadata": {},
   "outputs": [],
   "source": []
  },
  {
   "cell_type": "code",
   "execution_count": null,
   "metadata": {},
   "outputs": [],
   "source": []
  }
 ],
 "metadata": {
  "kernelspec": {
   "display_name": "videocrafter",
   "language": "python",
   "name": "python3"
  },
  "language_info": {
   "codemirror_mode": {
    "name": "ipython",
    "version": 3
   },
   "file_extension": ".py",
   "mimetype": "text/x-python",
   "name": "python",
   "nbconvert_exporter": "python",
   "pygments_lexer": "ipython3",
   "version": "3.8.5"
  }
 },
 "nbformat": 4,
 "nbformat_minor": 2
}
