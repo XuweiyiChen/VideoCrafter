{
 "cells": [
  {
   "cell_type": "code",
   "execution_count": 1,
   "metadata": {},
   "outputs": [
    {
     "name": "stderr",
     "output_type": "stream",
     "text": [
      "/home/xuweic/miniconda3/envs/videocrafter/lib/python3.8/site-packages/tqdm/auto.py:21: TqdmWarning: IProgress not found. Please update jupyter and ipywidgets. See https://ipywidgets.readthedocs.io/en/stable/user_install.html\n",
      "  from .autonotebook import tqdm as notebook_tqdm\n"
     ]
    }
   ],
   "source": [
    "import argparse, os, sys, glob, yaml, math, random\n",
    "import datetime, time\n",
    "import numpy as np\n",
    "from omegaconf import OmegaConf\n",
    "from collections import OrderedDict\n",
    "from tqdm import trange, tqdm\n",
    "from einops import repeat\n",
    "from einops import rearrange, repeat\n",
    "from functools import partial\n",
    "import torch\n",
    "from pytorch_lightning import seed_everything\n",
    "\n",
    "from funcs import load_model_checkpoint, load_prompts, load_image_batch, get_filelist, save_videos\n",
    "from funcs import batch_ddim_sampling\n",
    "from utils.utils import instantiate_from_config"
   ]
  },
  {
   "cell_type": "code",
   "execution_count": 2,
   "metadata": {},
   "outputs": [],
   "source": [
    "def get_parser():\n",
    "    parser = argparse.ArgumentParser()\n",
    "    parser.add_argument(\"--seed\", type=int, default=20230211, help=\"seed for seed_everything\")\n",
    "    parser.add_argument(\"--mode\", default=\"base\", type=str, help=\"which kind of inference mode: {'base', 'i2v'}\")\n",
    "    parser.add_argument(\"--ckpt_path\", type=str, default=None, help=\"checkpoint path\")\n",
    "    parser.add_argument(\"--config\", type=str, help=\"config (yaml) path\")\n",
    "    parser.add_argument(\"--prompt_file\", type=str, default=None, help=\"a text file containing many prompts\")\n",
    "    parser.add_argument(\"--savedir\", type=str, default=None, help=\"results saving path\")\n",
    "    parser.add_argument(\"--savefps\", type=str, default=10, help=\"video fps to generate\")\n",
    "    parser.add_argument(\"--n_samples\", type=int, default=1, help=\"num of samples per prompt\",)\n",
    "    parser.add_argument(\"--ddim_steps\", type=int, default=50, help=\"steps of ddim if positive, otherwise use DDPM\",)\n",
    "    parser.add_argument(\"--ddim_eta\", type=float, default=1.0, help=\"eta for ddim sampling (0.0 yields deterministic sampling)\",)\n",
    "    parser.add_argument(\"--bs\", type=int, default=1, help=\"batch size for inference\")\n",
    "    parser.add_argument(\"--height\", type=int, default=512, help=\"image height, in pixel space\")\n",
    "    parser.add_argument(\"--width\", type=int, default=512, help=\"image width, in pixel space\")\n",
    "    parser.add_argument(\"--frames\", type=int, default=-1, help=\"frames num to inference\")\n",
    "    parser.add_argument(\"--fps\", type=int, default=24)\n",
    "    parser.add_argument(\"--unconditional_guidance_scale\", type=float, default=1.0, help=\"prompt classifier-free guidance\")\n",
    "    parser.add_argument(\"--unconditional_guidance_scale_temporal\", type=float, default=None, help=\"temporal consistency guidance\")\n",
    "    ## for conditional i2v only\n",
    "    parser.add_argument(\"--cond_input\", type=str, default=None, help=\"data dir of conditional input\")\n",
    "    return parser\n"
   ]
  },
  {
   "cell_type": "code",
   "execution_count": 3,
   "metadata": {},
   "outputs": [],
   "source": [
    "def run_inference(args, gpu_num, gpu_no, **kwargs):\n",
    "    ## step 1: model config\n",
    "    ## -----------------------------------------------------------------\n",
    "    config = OmegaConf.load(args.config)\n",
    "    #data_config = config.pop(\"data\", OmegaConf.create())\n",
    "    model_config = config.pop(\"model\", OmegaConf.create())\n",
    "    model = instantiate_from_config(model_config)\n",
    "    model = model.cuda(gpu_no)\n",
    "    assert os.path.exists(args.ckpt_path), f\"Error: checkpoint [{args.ckpt_path}] Not Found!\"\n",
    "    model = load_model_checkpoint(model, args.ckpt_path)\n",
    "    model.eval()\n",
    "\n",
    "    ## sample shape\n",
    "    assert (args.height % 16 == 0) and (args.width % 16 == 0), \"Error: image size [h,w] should be multiples of 16!\"\n",
    "    ## latent noise shape\n",
    "    h, w = args.height // 8, args.width // 8\n",
    "    frames = model.temporal_length if args.frames < 0 else args.frames\n",
    "    channels = model.channels\n",
    "    \n",
    "    ## saving folders\n",
    "    os.makedirs(args.savedir, exist_ok=True)\n",
    "\n",
    "    ## step 2: load data\n",
    "    ## -----------------------------------------------------------------\n",
    "    assert os.path.exists(args.prompt_file), \"Error: prompt file NOT Found!\"\n",
    "    prompt_list = load_prompts(args.prompt_file)\n",
    "    num_samples = len(prompt_list)\n",
    "    filename_list = [f\"{id+1:04d}\" for id in range(num_samples)]\n",
    "\n",
    "    samples_split = num_samples // gpu_num\n",
    "    residual_tail = num_samples % gpu_num\n",
    "    print(f'[rank:{gpu_no}] {samples_split}/{num_samples} samples loaded.')\n",
    "    indices = list(range(samples_split*gpu_no, samples_split*(gpu_no+1)))\n",
    "    if gpu_no == 0 and residual_tail != 0:\n",
    "        indices = indices + list(range(num_samples-residual_tail, num_samples))\n",
    "    prompt_list_rank = [prompt_list[i] for i in indices]\n",
    "\n",
    "    ## conditional input\n",
    "    if args.mode == \"i2v\":\n",
    "        ## each video or frames dir per prompt\n",
    "        cond_inputs = get_filelist(args.cond_input, ext='[mpj][pn][4gj]')   # '[mpj][pn][4gj]'\n",
    "        assert len(cond_inputs) == num_samples, f\"Error: conditional input ({len(cond_inputs)}) NOT match prompt ({num_samples})!\"\n",
    "        filename_list = [f\"{os.path.split(cond_inputs[id])[-1][:-4]}\" for id in range(num_samples)]\n",
    "        cond_inputs_rank = [cond_inputs[i] for i in indices]\n",
    "\n",
    "    filename_list_rank = [filename_list[i] for i in indices]\n",
    "\n",
    "    ## step 3: run over samples\n",
    "    ## -----------------------------------------------------------------\n",
    "    start = time.time()\n",
    "    n_rounds = len(prompt_list_rank) // args.bs\n",
    "    n_rounds = n_rounds+1 if len(prompt_list_rank) % args.bs != 0 else n_rounds\n",
    "    for idx in range(0, n_rounds):\n",
    "        print(f'[rank:{gpu_no}] batch-{idx+1} ({args.bs})x{args.n_samples} ...')\n",
    "        idx_s = idx*args.bs\n",
    "        idx_e = min(idx_s+args.bs, len(prompt_list_rank))\n",
    "        batch_size = idx_e - idx_s\n",
    "        filenames = filename_list_rank[idx_s:idx_e]\n",
    "        noise_shape = [batch_size, channels, frames, h, w]\n",
    "        fps = torch.tensor([args.fps]*batch_size).to(model.device).long()\n",
    "\n",
    "        prompts = prompt_list_rank[idx_s:idx_e]\n",
    "        if isinstance(prompts, str):\n",
    "            prompts = [prompts]\n",
    "        #prompts = batch_size * [\"\"]\n",
    "        text_emb = model.get_learned_conditioning(prompts)\n",
    "\n",
    "        if args.mode == 'base':\n",
    "            cond = {\"c_crossattn\": [text_emb], \"fps\": fps}\n",
    "        elif args.mode == 'i2v':\n",
    "            #cond_images = torch.zeros(noise_shape[0],3,224,224).to(model.device)\n",
    "            cond_images = load_image_batch(cond_inputs_rank[idx_s:idx_e], (args.height, args.width))\n",
    "            cond_images = cond_images.to(model.device)\n",
    "            img_emb = model.get_image_embeds(cond_images)\n",
    "            imtext_cond = torch.cat([text_emb, img_emb], dim=1)\n",
    "            cond = {\"c_crossattn\": [imtext_cond], \"fps\": fps}\n",
    "        else:\n",
    "            raise NotImplementedError\n",
    "\n",
    "        ## inference\n",
    "        batch_samples = batch_ddim_sampling(model, cond, noise_shape, args.n_samples, \\\n",
    "                                                args.ddim_steps, args.ddim_eta, args.unconditional_guidance_scale, **kwargs)\n",
    "        ## b,samples,c,t,h,w\n",
    "        save_videos(batch_samples, args.savedir, filenames, fps=args.savefps)\n",
    "\n",
    "    print(f\"Saved in {args.savedir}. Time used: {(time.time() - start):.2f} seconds\")"
   ]
  },
  {
   "cell_type": "code",
   "execution_count": 6,
   "metadata": {},
   "outputs": [
    {
     "name": "stderr",
     "output_type": "stream",
     "text": [
      "Global seed set to 123\n"
     ]
    },
    {
     "name": "stdout",
     "output_type": "stream",
     "text": [
      "@CoLVDM Inference: 2024-02-23-01-04-58\n",
      "AE working on z of shape (1, 4, 64, 64) = 16384 dimensions.\n",
      ">>> model checkpoint loaded.\n",
      "[rank:0] 2/2 samples loaded.\n",
      "[rank:0] batch-1 (1)x1 ...\n",
      "DDIM scale True\n",
      "ddim device cuda:0\n"
     ]
    },
    {
     "name": "stderr",
     "output_type": "stream",
     "text": [
      "/home/xuweic/miniconda3/envs/videocrafter/lib/python3.8/site-packages/torch/utils/checkpoint.py:31: UserWarning: None of the inputs have requires_grad=True. Gradients will be None\n",
      "  warnings.warn(\"None of the inputs have requires_grad=True. Gradients will be None\")\n"
     ]
    },
    {
     "name": "stdout",
     "output_type": "stream",
     "text": [
      "[rank:0] batch-2 (1)x1 ...\n",
      "DDIM scale True\n",
      "ddim device cuda:0\n"
     ]
    }
   ],
   "source": [
    "now = datetime.datetime.now().strftime(\"%Y-%m-%d-%H-%M-%S\")\n",
    "print(\"@CoLVDM Inference: %s\" % now)\n",
    "args = argparse.Namespace(\n",
    "    seed=123,\n",
    "    mode=\"base\",\n",
    "    ckpt_path='/home/xuweic/Documents/VideoCrafter/checkpoints/base_512_v2/model.ckpt',\n",
    "    config='/home/xuweic/Documents/VideoCrafter/configs/inference_t2v_512_v2.0.yaml',\n",
    "    prompt_file=\"/home/xuweic/Documents/VideoCrafter/prompts/test_prompts.txt\",\n",
    "    savedir=\"/home/xuweic/Documents/VideoCrafter/results/base_512_v2\",\n",
    "    savefps=10,\n",
    "    n_samples=1,\n",
    "    ddim_steps=50,\n",
    "    ddim_eta=1.0,\n",
    "    bs=1,\n",
    "    height=320,\n",
    "    width=512,\n",
    "    frames=-1,\n",
    "    fps=28,\n",
    "    unconditional_guidance_scale=12.0,\n",
    "    unconditional_guidance_scale_temporal=None,\n",
    "    cond_input=None\n",
    ")\n",
    "\n",
    "# Ensure consistent behavior across runs\n",
    "seed_everything(args.seed)\n",
    "\n",
    "# Assuming these are relevant to your distributed setup or other logic\n",
    "rank, gpu_num = 0, 1\n",
    "\n",
    "# Run the inference with the manually set arguments\n",
    "run_inference(args, gpu_num, rank)"
   ]
  },
  {
   "cell_type": "code",
   "execution_count": null,
   "metadata": {},
   "outputs": [],
   "source": []
  }
 ],
 "metadata": {
  "kernelspec": {
   "display_name": "videocrafter",
   "language": "python",
   "name": "python3"
  },
  "language_info": {
   "codemirror_mode": {
    "name": "ipython",
    "version": 3
   },
   "file_extension": ".py",
   "mimetype": "text/x-python",
   "name": "python",
   "nbconvert_exporter": "python",
   "pygments_lexer": "ipython3",
   "version": "3.8.5"
  }
 },
 "nbformat": 4,
 "nbformat_minor": 2
}
